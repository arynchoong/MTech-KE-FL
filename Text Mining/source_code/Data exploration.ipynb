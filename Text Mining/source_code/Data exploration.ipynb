{
 "cells": [
  {
   "cell_type": "markdown",
   "metadata": {},
   "source": [
    "# Analyse Construction Accidents\n",
    "Analyse and clean data\n",
    " * MsiaAccidentCases.xlsx\n",
    " * osha.xlsx"
   ]
  },
  {
   "cell_type": "code",
   "execution_count": 1,
   "metadata": {
    "collapsed": true
   },
   "outputs": [],
   "source": [
    "import pandas as pd"
   ]
  },
  {
   "cell_type": "code",
   "execution_count": 2,
   "metadata": {},
   "outputs": [],
   "source": [
    "dfMsia = pd.read_excel(\"../data/interim/MsiaAccidentCases.xlsx\")\n",
    "dfOsha = pd.read_excel(\"../data/raw/osha.xlsx\", header=None, index_col=0, names = [\"Title\", \"Description\",\"Summary\", \"Classification\"])"
   ]
  },
  {
   "cell_type": "markdown",
   "metadata": {},
   "source": [
    "## Malaysia dataset"
   ]
  },
  {
   "cell_type": "code",
   "execution_count": 3,
   "metadata": {},
   "outputs": [
    {
     "data": {
      "text/html": [
       "<div>\n",
       "<style>\n",
       "    .dataframe thead tr:only-child th {\n",
       "        text-align: right;\n",
       "    }\n",
       "\n",
       "    .dataframe thead th {\n",
       "        text-align: left;\n",
       "    }\n",
       "\n",
       "    .dataframe tbody tr th {\n",
       "        vertical-align: top;\n",
       "    }\n",
       "</style>\n",
       "<table border=\"1\" class=\"dataframe\">\n",
       "  <thead>\n",
       "    <tr style=\"text-align: right;\">\n",
       "      <th></th>\n",
       "      <th>Cause</th>\n",
       "      <th>Title Case</th>\n",
       "      <th>Summary Case</th>\n",
       "    </tr>\n",
       "  </thead>\n",
       "  <tbody>\n",
       "    <tr>\n",
       "      <th>0</th>\n",
       "      <td>Caught in/between Objects</td>\n",
       "      <td>Died being caught in between machines</td>\n",
       "      <td>The accident occurred as victim was assigned t...</td>\n",
       "    </tr>\n",
       "    <tr>\n",
       "      <th>1</th>\n",
       "      <td>Other</td>\n",
       "      <td>Died been buried</td>\n",
       "      <td>The accident occurred during the floor concret...</td>\n",
       "    </tr>\n",
       "    <tr>\n",
       "      <th>2</th>\n",
       "      <td>Struck By Moving Objects</td>\n",
       "      <td>Died crushed by entrance arch</td>\n",
       "      <td>Victim with four co-workers were installing wo...</td>\n",
       "    </tr>\n",
       "    <tr>\n",
       "      <th>3</th>\n",
       "      <td>Collapse of object</td>\n",
       "      <td>Died due to mine cave-in</td>\n",
       "      <td>A series of avalanche trapped victim who was m...</td>\n",
       "    </tr>\n",
       "    <tr>\n",
       "      <th>4</th>\n",
       "      <td>Struck By Moving Objects</td>\n",
       "      <td>Died being run over by a lorry</td>\n",
       "      <td>Accident involving an employee who has been ru...</td>\n",
       "    </tr>\n",
       "  </tbody>\n",
       "</table>\n",
       "</div>"
      ],
      "text/plain": [
       "                      Cause                              Title Case  \\\n",
       "0  Caught in/between Objects  Died being caught in between machines   \n",
       "1                      Other                       Died been buried   \n",
       "2   Struck By Moving Objects          Died crushed by entrance arch   \n",
       "3         Collapse of object               Died due to mine cave-in   \n",
       "4   Struck By Moving Objects         Died being run over by a lorry   \n",
       "\n",
       "                                        Summary Case  \n",
       "0  The accident occurred as victim was assigned t...  \n",
       "1  The accident occurred during the floor concret...  \n",
       "2  Victim with four co-workers were installing wo...  \n",
       "3  A series of avalanche trapped victim who was m...  \n",
       "4  Accident involving an employee who has been ru...  "
      ]
     },
     "execution_count": 3,
     "metadata": {},
     "output_type": "execute_result"
    }
   ],
   "source": [
    "dfMsia.head()"
   ]
  },
  {
   "cell_type": "code",
   "execution_count": 4,
   "metadata": {},
   "outputs": [
    {
     "data": {
      "text/plain": [
       "(239, 3)"
      ]
     },
     "execution_count": 4,
     "metadata": {},
     "output_type": "execute_result"
    }
   ],
   "source": [
    "dfMsia = dfMsia.rename(columns={'Cause ': 'Cause'})\n",
    "dfMsia.shape"
   ]
  },
  {
   "cell_type": "code",
   "execution_count": 5,
   "metadata": {},
   "outputs": [
    {
     "data": {
      "text/plain": [
       "Index(['Cause', 'Title Case', 'Summary Case'], dtype='object')"
      ]
     },
     "execution_count": 5,
     "metadata": {},
     "output_type": "execute_result"
    }
   ],
   "source": [
    "dfMsia[\"Cause\"].replace(\"Others\", \"Other\", inplace=True)\n",
    "dfMsia.columns"
   ]
  },
  {
   "cell_type": "code",
   "execution_count": 6,
   "metadata": {},
   "outputs": [
    {
     "data": {
      "text/plain": [
       "array(['Caught in/between Objects', 'Other', 'Struck By Moving Objects',\n",
       "       'Collapse of object', 'Fires and Explosion', 'Falls',\n",
       "       'Electrocution', 'Exposure to extreme temperatures',\n",
       "       'Exposure to Chemical Substances', 'Drowning', 'Suffocation', nan], dtype=object)"
      ]
     },
     "execution_count": 6,
     "metadata": {},
     "output_type": "execute_result"
    }
   ],
   "source": [
    "dfMsia = dfMsia[dfMsia.Cause != 'TEST DATA']\n",
    "dfMsia['Cause'].unique()"
   ]
  },
  {
   "cell_type": "code",
   "execution_count": 7,
   "metadata": {},
   "outputs": [
    {
     "data": {
      "text/html": [
       "<div>\n",
       "<style>\n",
       "    .dataframe thead tr:only-child th {\n",
       "        text-align: right;\n",
       "    }\n",
       "\n",
       "    .dataframe thead th {\n",
       "        text-align: left;\n",
       "    }\n",
       "\n",
       "    .dataframe tbody tr th {\n",
       "        vertical-align: top;\n",
       "    }\n",
       "</style>\n",
       "<table border=\"1\" class=\"dataframe\">\n",
       "  <thead>\n",
       "    <tr style=\"text-align: right;\">\n",
       "      <th></th>\n",
       "      <th>Count</th>\n",
       "      <th>Percentage</th>\n",
       "    </tr>\n",
       "    <tr>\n",
       "      <th>Cause</th>\n",
       "      <th></th>\n",
       "      <th></th>\n",
       "    </tr>\n",
       "  </thead>\n",
       "  <tbody>\n",
       "    <tr>\n",
       "      <th>Caught in/between Objects</th>\n",
       "      <td>46</td>\n",
       "      <td>19.574468</td>\n",
       "    </tr>\n",
       "    <tr>\n",
       "      <th>Collapse of object</th>\n",
       "      <td>9</td>\n",
       "      <td>3.829787</td>\n",
       "    </tr>\n",
       "    <tr>\n",
       "      <th>Drowning</th>\n",
       "      <td>9</td>\n",
       "      <td>3.829787</td>\n",
       "    </tr>\n",
       "    <tr>\n",
       "      <th>Electrocution</th>\n",
       "      <td>17</td>\n",
       "      <td>7.234043</td>\n",
       "    </tr>\n",
       "    <tr>\n",
       "      <th>Exposure to Chemical Substances</th>\n",
       "      <td>2</td>\n",
       "      <td>0.851064</td>\n",
       "    </tr>\n",
       "    <tr>\n",
       "      <th>Exposure to extreme temperatures</th>\n",
       "      <td>3</td>\n",
       "      <td>1.276596</td>\n",
       "    </tr>\n",
       "    <tr>\n",
       "      <th>Falls</th>\n",
       "      <td>73</td>\n",
       "      <td>31.063830</td>\n",
       "    </tr>\n",
       "    <tr>\n",
       "      <th>Fires and Explosion</th>\n",
       "      <td>4</td>\n",
       "      <td>1.702128</td>\n",
       "    </tr>\n",
       "    <tr>\n",
       "      <th>Other</th>\n",
       "      <td>17</td>\n",
       "      <td>7.234043</td>\n",
       "    </tr>\n",
       "    <tr>\n",
       "      <th>Struck By Moving Objects</th>\n",
       "      <td>52</td>\n",
       "      <td>22.127660</td>\n",
       "    </tr>\n",
       "    <tr>\n",
       "      <th>Suffocation</th>\n",
       "      <td>3</td>\n",
       "      <td>1.276596</td>\n",
       "    </tr>\n",
       "  </tbody>\n",
       "</table>\n",
       "</div>"
      ],
      "text/plain": [
       "                                  Count  Percentage\n",
       "Cause                                              \n",
       "Caught in/between Objects            46   19.574468\n",
       "Collapse of object                    9    3.829787\n",
       "Drowning                              9    3.829787\n",
       "Electrocution                        17    7.234043\n",
       "Exposure to Chemical Substances       2    0.851064\n",
       "Exposure to extreme temperatures      3    1.276596\n",
       "Falls                                73   31.063830\n",
       "Fires and Explosion                   4    1.702128\n",
       "Other                                17    7.234043\n",
       "Struck By Moving Objects             52   22.127660\n",
       "Suffocation                           3    1.276596"
      ]
     },
     "execution_count": 7,
     "metadata": {},
     "output_type": "execute_result"
    }
   ],
   "source": [
    "# Get the breakdown of the Cause\n",
    "summary_msia = dfMsia.groupby('Cause').Cause.count()\n",
    "dfSummary = pd.DataFrame(summary_msia)\n",
    "dfSummary = dfSummary.rename(columns={'Cause': 'Count'})\n",
    "total = dfSummary['Count'].sum()\n",
    "dfSummary['Percentage'] = (dfSummary['Count']/total)*100\n",
    "dfSummary"
   ]
  },
  {
   "cell_type": "code",
   "execution_count": 8,
   "metadata": {},
   "outputs": [
    {
     "data": {
      "text/html": [
       "<div>\n",
       "<style>\n",
       "    .dataframe thead tr:only-child th {\n",
       "        text-align: right;\n",
       "    }\n",
       "\n",
       "    .dataframe thead th {\n",
       "        text-align: left;\n",
       "    }\n",
       "\n",
       "    .dataframe tbody tr th {\n",
       "        vertical-align: top;\n",
       "    }\n",
       "</style>\n",
       "<table border=\"1\" class=\"dataframe\">\n",
       "  <thead>\n",
       "    <tr style=\"text-align: right;\">\n",
       "      <th></th>\n",
       "      <th>Cause</th>\n",
       "      <th>Title Case</th>\n",
       "      <th>Summary Case</th>\n",
       "    </tr>\n",
       "  </thead>\n",
       "  <tbody>\n",
       "    <tr>\n",
       "      <th>count</th>\n",
       "      <td>235</td>\n",
       "      <td>235</td>\n",
       "      <td>235</td>\n",
       "    </tr>\n",
       "    <tr>\n",
       "      <th>unique</th>\n",
       "      <td>11</td>\n",
       "      <td>170</td>\n",
       "      <td>234</td>\n",
       "    </tr>\n",
       "    <tr>\n",
       "      <th>top</th>\n",
       "      <td>Falls</td>\n",
       "      <td>Died falling from height</td>\n",
       "      <td>Victim and his colleague was assigned to cutti...</td>\n",
       "    </tr>\n",
       "    <tr>\n",
       "      <th>freq</th>\n",
       "      <td>73</td>\n",
       "      <td>35</td>\n",
       "      <td>2</td>\n",
       "    </tr>\n",
       "  </tbody>\n",
       "</table>\n",
       "</div>"
      ],
      "text/plain": [
       "        Cause                Title Case  \\\n",
       "count     235                       235   \n",
       "unique     11                       170   \n",
       "top     Falls  Died falling from height   \n",
       "freq       73                        35   \n",
       "\n",
       "                                             Summary Case  \n",
       "count                                                 235  \n",
       "unique                                                234  \n",
       "top     Victim and his colleague was assigned to cutti...  \n",
       "freq                                                    2  "
      ]
     },
     "execution_count": 8,
     "metadata": {},
     "output_type": "execute_result"
    }
   ],
   "source": [
    "dfMsia.describe()"
   ]
  },
  {
   "cell_type": "markdown",
   "metadata": {},
   "source": [
    "## OSHA dataset"
   ]
  },
  {
   "cell_type": "code",
   "execution_count": 9,
   "metadata": {},
   "outputs": [
    {
     "data": {
      "text/html": [
       "<div>\n",
       "<style>\n",
       "    .dataframe thead tr:only-child th {\n",
       "        text-align: right;\n",
       "    }\n",
       "\n",
       "    .dataframe thead th {\n",
       "        text-align: left;\n",
       "    }\n",
       "\n",
       "    .dataframe tbody tr th {\n",
       "        vertical-align: top;\n",
       "    }\n",
       "</style>\n",
       "<table border=\"1\" class=\"dataframe\">\n",
       "  <thead>\n",
       "    <tr style=\"text-align: right;\">\n",
       "      <th></th>\n",
       "      <th>Title</th>\n",
       "      <th>Description</th>\n",
       "      <th>Summary</th>\n",
       "      <th>Classification</th>\n",
       "    </tr>\n",
       "    <tr>\n",
       "      <th>0</th>\n",
       "      <th></th>\n",
       "      <th></th>\n",
       "      <th></th>\n",
       "      <th></th>\n",
       "    </tr>\n",
       "  </thead>\n",
       "  <tbody>\n",
       "    <tr>\n",
       "      <th>201079928</th>\n",
       "      <td>Employee Is Burned By Forklift Radiator Fluid</td>\n",
       "      <td>At approximately 11:30 a.m. on November 13  2...</td>\n",
       "      <td>burn  industrial truck  waste proc fac  pa...</td>\n",
       "      <td></td>\n",
       "    </tr>\n",
       "    <tr>\n",
       "      <th>202561825</th>\n",
       "      <td>Employee Falls From Flatbed Trailer And Later...</td>\n",
       "      <td>On August 30  2013  Employee #1 was working f...</td>\n",
       "      <td>truck  flatbed truck  trailer  fall  abdomen</td>\n",
       "      <td></td>\n",
       "    </tr>\n",
       "    <tr>\n",
       "      <th>200361855</th>\n",
       "      <td>Two Workers Are Struck By Motor Vehicle And O...</td>\n",
       "      <td>On August 27  2013  Employees #1 and #2  of T...</td>\n",
       "      <td>construction  undrgrd power line  highway ...</td>\n",
       "      <td>1 317290559   Fatality Other Occupation not re...</td>\n",
       "    </tr>\n",
       "    <tr>\n",
       "      <th>200361863</th>\n",
       "      <td>Employee Is Struck By Bales Of Wire And Killed</td>\n",
       "      <td>On August 26  2013  Employee #1  with Lee Iro...</td>\n",
       "      <td>waste proc fac  industrial truck  struck b...</td>\n",
       "      <td></td>\n",
       "    </tr>\n",
       "    <tr>\n",
       "      <th>201079324</th>\n",
       "      <td>Employee Is Splashed With Hot Water And Is Bu...</td>\n",
       "      <td>On July 14  2013  Employee #1  vacuum pump tr...</td>\n",
       "      <td>truck driver  pump  tank  hot water  struc...</td>\n",
       "      <td></td>\n",
       "    </tr>\n",
       "  </tbody>\n",
       "</table>\n",
       "</div>"
      ],
      "text/plain": [
       "                                                       Title  \\\n",
       "0                                                              \n",
       "201079928     Employee Is Burned By Forklift Radiator Fluid    \n",
       "202561825   Employee Falls From Flatbed Trailer And Later...   \n",
       "200361855   Two Workers Are Struck By Motor Vehicle And O...   \n",
       "200361863    Employee Is Struck By Bales Of Wire And Killed    \n",
       "201079324   Employee Is Splashed With Hot Water And Is Bu...   \n",
       "\n",
       "                                                 Description  \\\n",
       "0                                                              \n",
       "201079928   At approximately 11:30 a.m. on November 13  2...   \n",
       "202561825   On August 30  2013  Employee #1 was working f...   \n",
       "200361855   On August 27  2013  Employees #1 and #2  of T...   \n",
       "200361863   On August 26  2013  Employee #1  with Lee Iro...   \n",
       "201079324   On July 14  2013  Employee #1  vacuum pump tr...   \n",
       "\n",
       "                                                     Summary  \\\n",
       "0                                                              \n",
       "201079928      burn  industrial truck  waste proc fac  pa...   \n",
       "202561825      truck  flatbed truck  trailer  fall  abdomen    \n",
       "200361855      construction  undrgrd power line  highway ...   \n",
       "200361863      waste proc fac  industrial truck  struck b...   \n",
       "201079324      truck driver  pump  tank  hot water  struc...   \n",
       "\n",
       "                                              Classification  \n",
       "0                                                             \n",
       "201079928                                                     \n",
       "202561825                                                     \n",
       "200361855  1 317290559   Fatality Other Occupation not re...  \n",
       "200361863                                                     \n",
       "201079324                                                     "
      ]
     },
     "execution_count": 9,
     "metadata": {},
     "output_type": "execute_result"
    }
   ],
   "source": [
    "dfOsha.head()"
   ]
  },
  {
   "cell_type": "code",
   "execution_count": 10,
   "metadata": {},
   "outputs": [
    {
     "data": {
      "text/plain": [
       "(16323, 4)"
      ]
     },
     "execution_count": 10,
     "metadata": {},
     "output_type": "execute_result"
    }
   ],
   "source": [
    "dfOsha.shape"
   ]
  },
  {
   "cell_type": "code",
   "execution_count": null,
   "metadata": {
    "collapsed": true
   },
   "outputs": [],
   "source": []
  }
 ],
 "metadata": {
  "kernelspec": {
   "display_name": "Python 3",
   "language": "python",
   "name": "python3"
  },
  "language_info": {
   "codemirror_mode": {
    "name": "ipython",
    "version": 3
   },
   "file_extension": ".py",
   "mimetype": "text/x-python",
   "name": "python",
   "nbconvert_exporter": "python",
   "pygments_lexer": "ipython3",
   "version": "3.6.1"
  }
 },
 "nbformat": 4,
 "nbformat_minor": 2
}
