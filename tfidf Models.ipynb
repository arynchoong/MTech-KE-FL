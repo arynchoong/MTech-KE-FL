{
 "cells": [
  {
   "cell_type": "markdown",
   "metadata": {},
   "source": [
    "### Build classifer to label causes for OSHA data\n",
    "\n",
    "* Use Malaysia pre-labelled data to build a classifier to label OSHA.xls data\n",
    "* Test three types of classifiers (Naive Bayes, Decision Tree, SVM)"
   ]
  },
  {
   "cell_type": "code",
   "execution_count": 1,
   "metadata": {
    "collapsed": true
   },
   "outputs": [],
   "source": [
    "# import dependencies\n",
    "\n",
    "import matplotlib.pyplot as plt\n",
    "import pandas as pd\n",
    "import numpy as np\n",
    "from sklearn.feature_extraction.text import CountVectorizer\n",
    "from sklearn.feature_extraction.text import TfidfTransformer\n",
    "from sklearn import metrics \n",
    "from sklearn.pipeline import Pipeline\n",
    "from sklearn.naive_bayes import MultinomialNB\n",
    "from sklearn.linear_model import SGDClassifier\n",
    "from sklearn import tree\n",
    "\n",
    "import string\n",
    "\n",
    "import nltk\n",
    "from nltk.stem.snowball import SnowballStemmer\n",
    "from nltk import word_tokenize          \n",
    "from nltk.stem import WordNetLemmatizer \n",
    "%matplotlib inline"
   ]
  },
  {
   "cell_type": "code",
   "execution_count": 2,
   "metadata": {},
   "outputs": [],
   "source": [
    "osha=pd.read_excel('./Text Mining/data/raw/osha.xlsx', header=None, index_col=0, names = [\"Title\", \"Description\",\"Summary\", \"Classification\"])"
   ]
  },
  {
   "cell_type": "code",
   "execution_count": 3,
   "metadata": {},
   "outputs": [
    {
     "data": {
      "text/html": [
       "<div>\n",
       "<style>\n",
       "    .dataframe thead tr:only-child th {\n",
       "        text-align: right;\n",
       "    }\n",
       "\n",
       "    .dataframe thead th {\n",
       "        text-align: left;\n",
       "    }\n",
       "\n",
       "    .dataframe tbody tr th {\n",
       "        vertical-align: top;\n",
       "    }\n",
       "</style>\n",
       "<table border=\"1\" class=\"dataframe\">\n",
       "  <thead>\n",
       "    <tr style=\"text-align: right;\">\n",
       "      <th></th>\n",
       "      <th>Title</th>\n",
       "      <th>Description</th>\n",
       "      <th>Summary</th>\n",
       "      <th>Classification</th>\n",
       "    </tr>\n",
       "    <tr>\n",
       "      <th>0</th>\n",
       "      <th></th>\n",
       "      <th></th>\n",
       "      <th></th>\n",
       "      <th></th>\n",
       "    </tr>\n",
       "  </thead>\n",
       "  <tbody>\n",
       "    <tr>\n",
       "      <th>201079928</th>\n",
       "      <td>Employee Is Burned By Forklift Radiator Fluid</td>\n",
       "      <td>At approximately 11:30 a.m. on November 13  2...</td>\n",
       "      <td>burn  industrial truck  waste proc fac  pa...</td>\n",
       "      <td></td>\n",
       "    </tr>\n",
       "    <tr>\n",
       "      <th>202561825</th>\n",
       "      <td>Employee Falls From Flatbed Trailer And Later...</td>\n",
       "      <td>On August 30  2013  Employee #1 was working f...</td>\n",
       "      <td>truck  flatbed truck  trailer  fall  abdomen</td>\n",
       "      <td></td>\n",
       "    </tr>\n",
       "    <tr>\n",
       "      <th>200361855</th>\n",
       "      <td>Two Workers Are Struck By Motor Vehicle And O...</td>\n",
       "      <td>On August 27  2013  Employees #1 and #2  of T...</td>\n",
       "      <td>construction  undrgrd power line  highway ...</td>\n",
       "      <td>1 317290559   Fatality Other Occupation not re...</td>\n",
       "    </tr>\n",
       "    <tr>\n",
       "      <th>200361863</th>\n",
       "      <td>Employee Is Struck By Bales Of Wire And Killed</td>\n",
       "      <td>On August 26  2013  Employee #1  with Lee Iro...</td>\n",
       "      <td>waste proc fac  industrial truck  struck b...</td>\n",
       "      <td></td>\n",
       "    </tr>\n",
       "    <tr>\n",
       "      <th>201079324</th>\n",
       "      <td>Employee Is Splashed With Hot Water And Is Bu...</td>\n",
       "      <td>On July 14  2013  Employee #1  vacuum pump tr...</td>\n",
       "      <td>truck driver  pump  tank  hot water  struc...</td>\n",
       "      <td></td>\n",
       "    </tr>\n",
       "  </tbody>\n",
       "</table>\n",
       "</div>"
      ],
      "text/plain": [
       "                                                       Title  \\\n",
       "0                                                              \n",
       "201079928     Employee Is Burned By Forklift Radiator Fluid    \n",
       "202561825   Employee Falls From Flatbed Trailer And Later...   \n",
       "200361855   Two Workers Are Struck By Motor Vehicle And O...   \n",
       "200361863    Employee Is Struck By Bales Of Wire And Killed    \n",
       "201079324   Employee Is Splashed With Hot Water And Is Bu...   \n",
       "\n",
       "                                                 Description  \\\n",
       "0                                                              \n",
       "201079928   At approximately 11:30 a.m. on November 13  2...   \n",
       "202561825   On August 30  2013  Employee #1 was working f...   \n",
       "200361855   On August 27  2013  Employees #1 and #2  of T...   \n",
       "200361863   On August 26  2013  Employee #1  with Lee Iro...   \n",
       "201079324   On July 14  2013  Employee #1  vacuum pump tr...   \n",
       "\n",
       "                                                     Summary  \\\n",
       "0                                                              \n",
       "201079928      burn  industrial truck  waste proc fac  pa...   \n",
       "202561825      truck  flatbed truck  trailer  fall  abdomen    \n",
       "200361855      construction  undrgrd power line  highway ...   \n",
       "200361863      waste proc fac  industrial truck  struck b...   \n",
       "201079324      truck driver  pump  tank  hot water  struc...   \n",
       "\n",
       "                                              Classification  \n",
       "0                                                             \n",
       "201079928                                                     \n",
       "202561825                                                     \n",
       "200361855  1 317290559   Fatality Other Occupation not re...  \n",
       "200361863                                                     \n",
       "201079324                                                     "
      ]
     },
     "execution_count": 3,
     "metadata": {},
     "output_type": "execute_result"
    }
   ],
   "source": [
    "osha.head()"
   ]
  },
  {
   "cell_type": "code",
   "execution_count": 4,
   "metadata": {
    "collapsed": true
   },
   "outputs": [],
   "source": [
    "# Read in labelled Malaysia Data\n",
    "report_train=pd.read_excel('MsiaAccidentCasesTrain.xlsx',names = [\"Cause\", \"Title\", \"Summary\"])\n",
    "report_test=pd.read_excel('MsiaAccidentCasesTest.xlsx',names = [\"Cause\", \"Title\", \"Summary\"])"
   ]
  },
  {
   "cell_type": "code",
   "execution_count": 5,
   "metadata": {},
   "outputs": [
    {
     "data": {
      "text/html": [
       "<div>\n",
       "<style>\n",
       "    .dataframe thead tr:only-child th {\n",
       "        text-align: right;\n",
       "    }\n",
       "\n",
       "    .dataframe thead th {\n",
       "        text-align: left;\n",
       "    }\n",
       "\n",
       "    .dataframe tbody tr th {\n",
       "        vertical-align: top;\n",
       "    }\n",
       "</style>\n",
       "<table border=\"1\" class=\"dataframe\">\n",
       "  <thead>\n",
       "    <tr>\n",
       "      <th></th>\n",
       "      <th colspan=\"4\" halign=\"left\">Summary</th>\n",
       "      <th colspan=\"4\" halign=\"left\">Title</th>\n",
       "    </tr>\n",
       "    <tr>\n",
       "      <th></th>\n",
       "      <th>count</th>\n",
       "      <th>unique</th>\n",
       "      <th>top</th>\n",
       "      <th>freq</th>\n",
       "      <th>count</th>\n",
       "      <th>unique</th>\n",
       "      <th>top</th>\n",
       "      <th>freq</th>\n",
       "    </tr>\n",
       "    <tr>\n",
       "      <th>Cause</th>\n",
       "      <th></th>\n",
       "      <th></th>\n",
       "      <th></th>\n",
       "      <th></th>\n",
       "      <th></th>\n",
       "      <th></th>\n",
       "      <th></th>\n",
       "      <th></th>\n",
       "    </tr>\n",
       "  </thead>\n",
       "  <tbody>\n",
       "    <tr>\n",
       "      <th>Caught in/between Objects</th>\n",
       "      <td>36</td>\n",
       "      <td>36</td>\n",
       "      <td>Victim was died due to being struck by machine...</td>\n",
       "      <td>1</td>\n",
       "      <td>36</td>\n",
       "      <td>34</td>\n",
       "      <td>Died caught between objects</td>\n",
       "      <td>2</td>\n",
       "    </tr>\n",
       "    <tr>\n",
       "      <th>Collapse of object</th>\n",
       "      <td>5</td>\n",
       "      <td>5</td>\n",
       "      <td>The incident took place during the removal of ...</td>\n",
       "      <td>1</td>\n",
       "      <td>5</td>\n",
       "      <td>5</td>\n",
       "      <td>Died crushed by collapsing wall</td>\n",
       "      <td>1</td>\n",
       "    </tr>\n",
       "    <tr>\n",
       "      <th>Drowning</th>\n",
       "      <td>8</td>\n",
       "      <td>8</td>\n",
       "      <td>Victims carry out land clearing work using bul...</td>\n",
       "      <td>1</td>\n",
       "      <td>8</td>\n",
       "      <td>3</td>\n",
       "      <td>Died due to drowning</td>\n",
       "      <td>6</td>\n",
       "    </tr>\n",
       "    <tr>\n",
       "      <th>Electrocution</th>\n",
       "      <td>17</td>\n",
       "      <td>17</td>\n",
       "      <td>The victim was died due to electrocution. He i...</td>\n",
       "      <td>1</td>\n",
       "      <td>17</td>\n",
       "      <td>8</td>\n",
       "      <td>Died due to electrocution</td>\n",
       "      <td>4</td>\n",
       "    </tr>\n",
       "    <tr>\n",
       "      <th>Exposure to Chemical Substances</th>\n",
       "      <td>2</td>\n",
       "      <td>2</td>\n",
       "      <td>Victim was diagnosed with organophosphorus as ...</td>\n",
       "      <td>1</td>\n",
       "      <td>2</td>\n",
       "      <td>2</td>\n",
       "      <td>Died due to the exposure of hazardous chemical</td>\n",
       "      <td>1</td>\n",
       "    </tr>\n",
       "    <tr>\n",
       "      <th>Exposure to extreme temperatures</th>\n",
       "      <td>3</td>\n",
       "      <td>3</td>\n",
       "      <td>Accident happened due to the problem of a \"top...</td>\n",
       "      <td>1</td>\n",
       "      <td>3</td>\n",
       "      <td>3</td>\n",
       "      <td>Died due to contact with hot water</td>\n",
       "      <td>1</td>\n",
       "    </tr>\n",
       "    <tr>\n",
       "      <th>Falls</th>\n",
       "      <td>56</td>\n",
       "      <td>56</td>\n",
       "      <td>A general worker fell down from 26th floor as ...</td>\n",
       "      <td>1</td>\n",
       "      <td>56</td>\n",
       "      <td>22</td>\n",
       "      <td>Died falling from height</td>\n",
       "      <td>32</td>\n",
       "    </tr>\n",
       "    <tr>\n",
       "      <th>Fires and Explosion</th>\n",
       "      <td>3</td>\n",
       "      <td>3</td>\n",
       "      <td>A fire incident took place inside a building u...</td>\n",
       "      <td>1</td>\n",
       "      <td>3</td>\n",
       "      <td>3</td>\n",
       "      <td>Died due to fire</td>\n",
       "      <td>1</td>\n",
       "    </tr>\n",
       "    <tr>\n",
       "      <th>Other</th>\n",
       "      <td>9</td>\n",
       "      <td>9</td>\n",
       "      <td>The victim was thrown away from a tractor's se...</td>\n",
       "      <td>1</td>\n",
       "      <td>9</td>\n",
       "      <td>8</td>\n",
       "      <td>Died being buried</td>\n",
       "      <td>2</td>\n",
       "    </tr>\n",
       "    <tr>\n",
       "      <th>Struck By Moving Objects</th>\n",
       "      <td>40</td>\n",
       "      <td>40</td>\n",
       "      <td>During the incident, the victim, a constructio...</td>\n",
       "      <td>1</td>\n",
       "      <td>40</td>\n",
       "      <td>39</td>\n",
       "      <td>Fatal accident involving Express Bus</td>\n",
       "      <td>2</td>\n",
       "    </tr>\n",
       "    <tr>\n",
       "      <th>Suffocation</th>\n",
       "      <td>3</td>\n",
       "      <td>3</td>\n",
       "      <td>2 victims died after inhaling toxic gas while ...</td>\n",
       "      <td>1</td>\n",
       "      <td>3</td>\n",
       "      <td>3</td>\n",
       "      <td>Died due to suffocation</td>\n",
       "      <td>1</td>\n",
       "    </tr>\n",
       "  </tbody>\n",
       "</table>\n",
       "</div>"
      ],
      "text/plain": [
       "                                 Summary         \\\n",
       "                                   count unique   \n",
       "Cause                                             \n",
       "Caught in/between Objects             36     36   \n",
       "Collapse of object                     5      5   \n",
       "Drowning                               8      8   \n",
       "Electrocution                         17     17   \n",
       "Exposure to Chemical Substances        2      2   \n",
       "Exposure to extreme temperatures       3      3   \n",
       "Falls                                 56     56   \n",
       "Fires and Explosion                    3      3   \n",
       "Other                                  9      9   \n",
       "Struck By Moving Objects              40     40   \n",
       "Suffocation                            3      3   \n",
       "\n",
       "                                                                                     \\\n",
       "                                                                                top   \n",
       "Cause                                                                                 \n",
       "Caught in/between Objects         Victim was died due to being struck by machine...   \n",
       "Collapse of object                The incident took place during the removal of ...   \n",
       "Drowning                          Victims carry out land clearing work using bul...   \n",
       "Electrocution                     The victim was died due to electrocution. He i...   \n",
       "Exposure to Chemical Substances   Victim was diagnosed with organophosphorus as ...   \n",
       "Exposure to extreme temperatures  Accident happened due to the problem of a \"top...   \n",
       "Falls                             A general worker fell down from 26th floor as ...   \n",
       "Fires and Explosion               A fire incident took place inside a building u...   \n",
       "Other                             The victim was thrown away from a tractor's se...   \n",
       "Struck By Moving Objects          During the incident, the victim, a constructio...   \n",
       "Suffocation                       2 victims died after inhaling toxic gas while ...   \n",
       "\n",
       "                                      Title         \\\n",
       "                                 freq count unique   \n",
       "Cause                                                \n",
       "Caught in/between Objects           1    36     34   \n",
       "Collapse of object                  1     5      5   \n",
       "Drowning                            1     8      3   \n",
       "Electrocution                       1    17      8   \n",
       "Exposure to Chemical Substances     1     2      2   \n",
       "Exposure to extreme temperatures    1     3      3   \n",
       "Falls                               1    56     22   \n",
       "Fires and Explosion                 1     3      3   \n",
       "Other                               1     9      8   \n",
       "Struck By Moving Objects            1    40     39   \n",
       "Suffocation                         1     3      3   \n",
       "\n",
       "                                                                                  \\\n",
       "                                                                             top   \n",
       "Cause                                                                              \n",
       "Caught in/between Objects                            Died caught between objects   \n",
       "Collapse of object                               Died crushed by collapsing wall   \n",
       "Drowning                                                    Died due to drowning   \n",
       "Electrocution                                          Died due to electrocution   \n",
       "Exposure to Chemical Substances   Died due to the exposure of hazardous chemical   \n",
       "Exposure to extreme temperatures              Died due to contact with hot water   \n",
       "Falls                                                   Died falling from height   \n",
       "Fires and Explosion                                             Died due to fire   \n",
       "Other                                                          Died being buried   \n",
       "Struck By Moving Objects                    Fatal accident involving Express Bus   \n",
       "Suffocation                                              Died due to suffocation   \n",
       "\n",
       "                                       \n",
       "                                 freq  \n",
       "Cause                                  \n",
       "Caught in/between Objects           2  \n",
       "Collapse of object                  1  \n",
       "Drowning                            6  \n",
       "Electrocution                       4  \n",
       "Exposure to Chemical Substances     1  \n",
       "Exposure to extreme temperatures    1  \n",
       "Falls                              32  \n",
       "Fires and Explosion                 1  \n",
       "Other                               2  \n",
       "Struck By Moving Objects            2  \n",
       "Suffocation                         1  "
      ]
     },
     "execution_count": 5,
     "metadata": {},
     "output_type": "execute_result"
    }
   ],
   "source": [
    "report_train.groupby('Cause').describe()"
   ]
  },
  {
   "cell_type": "code",
   "execution_count": 6,
   "metadata": {},
   "outputs": [
    {
     "data": {
      "text/html": [
       "<div>\n",
       "<style>\n",
       "    .dataframe thead tr:only-child th {\n",
       "        text-align: right;\n",
       "    }\n",
       "\n",
       "    .dataframe thead th {\n",
       "        text-align: left;\n",
       "    }\n",
       "\n",
       "    .dataframe tbody tr th {\n",
       "        vertical-align: top;\n",
       "    }\n",
       "</style>\n",
       "<table border=\"1\" class=\"dataframe\">\n",
       "  <thead>\n",
       "    <tr>\n",
       "      <th></th>\n",
       "      <th colspan=\"4\" halign=\"left\">Summary</th>\n",
       "      <th colspan=\"4\" halign=\"left\">Title</th>\n",
       "    </tr>\n",
       "    <tr>\n",
       "      <th></th>\n",
       "      <th>count</th>\n",
       "      <th>unique</th>\n",
       "      <th>top</th>\n",
       "      <th>freq</th>\n",
       "      <th>count</th>\n",
       "      <th>unique</th>\n",
       "      <th>top</th>\n",
       "      <th>freq</th>\n",
       "    </tr>\n",
       "    <tr>\n",
       "      <th>Cause</th>\n",
       "      <th></th>\n",
       "      <th></th>\n",
       "      <th></th>\n",
       "      <th></th>\n",
       "      <th></th>\n",
       "      <th></th>\n",
       "      <th></th>\n",
       "      <th></th>\n",
       "    </tr>\n",
       "  </thead>\n",
       "  <tbody>\n",
       "    <tr>\n",
       "      <th>Caught in/between Objects</th>\n",
       "      <td>11</td>\n",
       "      <td>11</td>\n",
       "      <td>The victim, a foreign worker, was crushed to d...</td>\n",
       "      <td>1</td>\n",
       "      <td>11</td>\n",
       "      <td>8</td>\n",
       "      <td>Struck by a tree</td>\n",
       "      <td>2</td>\n",
       "    </tr>\n",
       "    <tr>\n",
       "      <th>Collapse of object</th>\n",
       "      <td>3</td>\n",
       "      <td>3</td>\n",
       "      <td>The victim, 44 years, was buried with rubbish ...</td>\n",
       "      <td>1</td>\n",
       "      <td>3</td>\n",
       "      <td>3</td>\n",
       "      <td>Death caused by sudden floor collapse</td>\n",
       "      <td>1</td>\n",
       "    </tr>\n",
       "    <tr>\n",
       "      <th>Drowning</th>\n",
       "      <td>1</td>\n",
       "      <td>1</td>\n",
       "      <td>The victim, 7 years, was found drowned at a ri...</td>\n",
       "      <td>1</td>\n",
       "      <td>1</td>\n",
       "      <td>1</td>\n",
       "      <td>Drowned at river re-construction site</td>\n",
       "      <td>1</td>\n",
       "    </tr>\n",
       "    <tr>\n",
       "      <th>Falls</th>\n",
       "      <td>17</td>\n",
       "      <td>17</td>\n",
       "      <td>A foreign worker, age 26, died when he fell of...</td>\n",
       "      <td>1</td>\n",
       "      <td>17</td>\n",
       "      <td>12</td>\n",
       "      <td>Fall from height</td>\n",
       "      <td>4</td>\n",
       "    </tr>\n",
       "    <tr>\n",
       "      <th>Fires and Explosion</th>\n",
       "      <td>1</td>\n",
       "      <td>1</td>\n",
       "      <td>A local worker, age 30, died when barrel drums...</td>\n",
       "      <td>1</td>\n",
       "      <td>1</td>\n",
       "      <td>1</td>\n",
       "      <td>Death due to exploding barrel drums</td>\n",
       "      <td>1</td>\n",
       "    </tr>\n",
       "    <tr>\n",
       "      <th>Other</th>\n",
       "      <td>8</td>\n",
       "      <td>8</td>\n",
       "      <td>The victim, 40 years, was found dead in a toil...</td>\n",
       "      <td>1</td>\n",
       "      <td>8</td>\n",
       "      <td>8</td>\n",
       "      <td>Found dead in a toilet</td>\n",
       "      <td>1</td>\n",
       "    </tr>\n",
       "    <tr>\n",
       "      <th>Struck By Moving Objects</th>\n",
       "      <td>12</td>\n",
       "      <td>12</td>\n",
       "      <td>The victim, 14 years, was killed after being h...</td>\n",
       "      <td>1</td>\n",
       "      <td>12</td>\n",
       "      <td>11</td>\n",
       "      <td>Hit by bulldozer</td>\n",
       "      <td>2</td>\n",
       "    </tr>\n",
       "  </tbody>\n",
       "</table>\n",
       "</div>"
      ],
      "text/plain": [
       "                          Summary         \\\n",
       "                            count unique   \n",
       "Cause                                      \n",
       "Caught in/between Objects      11     11   \n",
       "Collapse of object              3      3   \n",
       "Drowning                        1      1   \n",
       "Falls                          17     17   \n",
       "Fires and Explosion             1      1   \n",
       "Other                           8      8   \n",
       "Struck By Moving Objects       12     12   \n",
       "\n",
       "                                                                              \\\n",
       "                                                                         top   \n",
       "Cause                                                                          \n",
       "Caught in/between Objects  The victim, a foreign worker, was crushed to d...   \n",
       "Collapse of object         The victim, 44 years, was buried with rubbish ...   \n",
       "Drowning                   The victim, 7 years, was found drowned at a ri...   \n",
       "Falls                      A foreign worker, age 26, died when he fell of...   \n",
       "Fires and Explosion        A local worker, age 30, died when barrel drums...   \n",
       "Other                      The victim, 40 years, was found dead in a toil...   \n",
       "Struck By Moving Objects   The victim, 14 years, was killed after being h...   \n",
       "\n",
       "                               Title         \\\n",
       "                          freq count unique   \n",
       "Cause                                         \n",
       "Caught in/between Objects    1    11      8   \n",
       "Collapse of object           1     3      3   \n",
       "Drowning                     1     1      1   \n",
       "Falls                        1    17     12   \n",
       "Fires and Explosion          1     1      1   \n",
       "Other                        1     8      8   \n",
       "Struck By Moving Objects     1    12     11   \n",
       "\n",
       "                                                                       \n",
       "                                                             top freq  \n",
       "Cause                                                                  \n",
       "Caught in/between Objects                       Struck by a tree    2  \n",
       "Collapse of object         Death caused by sudden floor collapse    1  \n",
       "Drowning                   Drowned at river re-construction site    1  \n",
       "Falls                                           Fall from height    4  \n",
       "Fires and Explosion          Death due to exploding barrel drums    1  \n",
       "Other                                     Found dead in a toilet    1  \n",
       "Struck By Moving Objects                        Hit by bulldozer    2  "
      ]
     },
     "execution_count": 6,
     "metadata": {},
     "output_type": "execute_result"
    }
   ],
   "source": [
    "report_test.groupby('Cause').describe()"
   ]
  },
  {
   "cell_type": "code",
   "execution_count": 7,
   "metadata": {
    "collapsed": true
   },
   "outputs": [],
   "source": [
    "# Prepare two sets of training and test data\n",
    "# One set based on the Summary column, One set bsed on the Title column\n",
    "\n",
    "X_Summary_train = report_train['Summary']\n",
    "X_Title_train = report_train['Title']\n",
    "y_train = report_train['Cause']\n",
    "\n",
    "X_Summary_test = report_test['Summary']\n",
    "X_Title_test = report_test['Title']\n",
    "y_test = report_test['Cause']"
   ]
  },
  {
   "cell_type": "code",
   "execution_count": 8,
   "metadata": {
    "collapsed": true
   },
   "outputs": [],
   "source": [
    "# Function to preprocess text\n",
    "# - remove stop words\n",
    "# - lemmanize\n",
    "# - remove punctuation\n",
    "# - remove numbers\n",
    "# - convert to lower case\n",
    "# - remove tokens which are less than 4 characters\n",
    "\n",
    "def text_process(mess):\n",
    "    stop = nltk.corpus.stopwords.words('english')\n",
    "    wnl = nltk.WordNetLemmatizer()\n",
    "    snowball = nltk.SnowballStemmer('english')\n",
    "    \n",
    "    tokens = word_tokenize(mess.replace(\"'\", \"\"))\n",
    "    tokens_nop = [ t for t in tokens if t not in string.punctuation ]\n",
    "    tokens_char = [x for x in tokens_nop if not any(c.isdigit() for c in x)]\n",
    "    tokens_lower = [ t.lower() for t in tokens_char ]\n",
    "    tokens_nostop=[ t for t in tokens_lower if t not in stop ]\n",
    "    tokens_lem = [ wnl.lemmatize(t) for t in tokens_nostop ]\n",
    "    tokens_snow = [ snowball.stem(t) for t in tokens_lem ]\n",
    "    tokens_clean = [ t for t in tokens_snow if len(t) >= 3 ]\n",
    "    \n",
    "    return tokens_clean"
   ]
  },
  {
   "cell_type": "markdown",
   "metadata": {},
   "source": [
    "## Naive Bayes\n",
    "\n",
    "* nb1_clf - classifier based on Title text\n",
    "* nb2_clf - classifier based on Summary text"
   ]
  },
  {
   "cell_type": "code",
   "execution_count": 9,
   "metadata": {
    "collapsed": true
   },
   "outputs": [],
   "source": [
    "nb1_clf = Pipeline([('vect', CountVectorizer(analyzer=text_process)),  \n",
    "                     ('tfidf', TfidfTransformer()),\n",
    "                      ('clf', MultinomialNB()),\n",
    "                    ])\n",
    "nb2_clf = Pipeline([('vect', CountVectorizer(analyzer=text_process)),  \n",
    "                     ('tfidf', TfidfTransformer()),\n",
    "                      ('clf', MultinomialNB()),\n",
    "                    ])"
   ]
  },
  {
   "cell_type": "code",
   "execution_count": 10,
   "metadata": {},
   "outputs": [
    {
     "data": {
      "text/plain": [
       "Pipeline(steps=[('vect', CountVectorizer(analyzer=<function text_process at 0x11df6de18>, binary=False,\n",
       "        decode_error='strict', dtype=<class 'numpy.int64'>,\n",
       "        encoding='utf-8', input='content', lowercase=True, max_df=1.0,\n",
       "        max_features=None, min_df=1, ngram_range=(1, 1), preprocessor=None...inear_tf=False, use_idf=True)), ('clf', MultinomialNB(alpha=1.0, class_prior=None, fit_prior=True))])"
      ]
     },
     "execution_count": 10,
     "metadata": {},
     "output_type": "execute_result"
    }
   ],
   "source": [
    "nb1_clf.fit(X_Title_train,y_train ) "
   ]
  },
  {
   "cell_type": "code",
   "execution_count": 11,
   "metadata": {},
   "outputs": [
    {
     "name": "stdout",
     "output_type": "stream",
     "text": [
      "[[ 9  0  0  0  2  0  0  0]\n",
      " [ 0  0  0  0  2  0  1  0]\n",
      " [ 0  0  1  0  0  0  0  0]\n",
      " [ 0  0  0  0  0  0  0  0]\n",
      " [ 0  0  0  0 17  0  0  0]\n",
      " [ 0  0  0  1  0  0  0  0]\n",
      " [ 0  0  0  3  2  0  0  3]\n",
      " [ 2  0  0  0  0  0  0 10]]\n",
      "0.698113207547\n"
     ]
    }
   ],
   "source": [
    "predicted = nb1_clf.predict(X_Title_test)\n",
    " \n",
    "print(metrics.confusion_matrix(y_test, predicted))\n",
    "print(np.mean(predicted == y_test) )"
   ]
  },
  {
   "cell_type": "code",
   "execution_count": 12,
   "metadata": {},
   "outputs": [
    {
     "name": "stdout",
     "output_type": "stream",
     "text": [
      "                           precision    recall  f1-score   support\n",
      "\n",
      "Caught in/between Objects       0.82      0.82      0.82        11\n",
      "       Collapse of object       0.00      0.00      0.00         3\n",
      "                 Drowning       1.00      1.00      1.00         1\n",
      "            Electrocution       0.00      0.00      0.00         0\n",
      "                    Falls       0.74      1.00      0.85        17\n",
      "      Fires and Explosion       0.00      0.00      0.00         1\n",
      "                    Other       0.00      0.00      0.00         8\n",
      " Struck By Moving Objects       0.77      0.83      0.80        12\n",
      "\n",
      "              avg / total       0.60      0.70      0.64        53\n",
      "\n"
     ]
    },
    {
     "name": "stderr",
     "output_type": "stream",
     "text": [
      "/anaconda/lib/python3.6/site-packages/sklearn/metrics/classification.py:1113: UndefinedMetricWarning: Precision and F-score are ill-defined and being set to 0.0 in labels with no predicted samples.\n",
      "  'precision', 'predicted', average, warn_for)\n",
      "/anaconda/lib/python3.6/site-packages/sklearn/metrics/classification.py:1115: UndefinedMetricWarning: Recall and F-score are ill-defined and being set to 0.0 in labels with no true samples.\n",
      "  'recall', 'true', average, warn_for)\n"
     ]
    }
   ],
   "source": [
    "print(metrics.classification_report(y_test, predicted))"
   ]
  },
  {
   "cell_type": "code",
   "execution_count": 46,
   "metadata": {},
   "outputs": [
    {
     "data": {
      "text/plain": [
       "Pipeline(steps=[('vect', CountVectorizer(analyzer=<function text_process at 0x11df6de18>, binary=False,\n",
       "        decode_error='strict', dtype=<class 'numpy.int64'>,\n",
       "        encoding='utf-8', input='content', lowercase=True, max_df=1.0,\n",
       "        max_features=None, min_df=1, ngram_range=(1, 1), preprocessor=None...inear_tf=False, use_idf=True)), ('clf', MultinomialNB(alpha=1.0, class_prior=None, fit_prior=True))])"
      ]
     },
     "execution_count": 46,
     "metadata": {},
     "output_type": "execute_result"
    }
   ],
   "source": [
    "nb2_clf.fit(X_Summary_train,y_train ) "
   ]
  },
  {
   "cell_type": "code",
   "execution_count": 47,
   "metadata": {},
   "outputs": [
    {
     "name": "stdout",
     "output_type": "stream",
     "text": [
      "[[ 1  0  0  9  0  0  1]\n",
      " [ 0  0  0  3  0  0  0]\n",
      " [ 0  0  0  1  0  0  0]\n",
      " [ 0  0  0 16  0  0  1]\n",
      " [ 0  0  0  1  0  0  0]\n",
      " [ 0  0  0  7  0  0  1]\n",
      " [ 1  0  0  8  0  0  3]]\n",
      "0.377358490566\n"
     ]
    }
   ],
   "source": [
    "predicted = nb2_clf.predict(X_Summary_test)\n",
    " \n",
    "print(metrics.confusion_matrix(y_test, predicted))\n",
    "print(np.mean(predicted == y_test) )"
   ]
  },
  {
   "cell_type": "code",
   "execution_count": 15,
   "metadata": {},
   "outputs": [
    {
     "name": "stdout",
     "output_type": "stream",
     "text": [
      "                           precision    recall  f1-score   support\n",
      "\n",
      "Caught in/between Objects       0.50      0.09      0.15        11\n",
      "       Collapse of object       0.00      0.00      0.00         3\n",
      "                 Drowning       0.00      0.00      0.00         1\n",
      "                    Falls       0.36      0.94      0.52        17\n",
      "      Fires and Explosion       0.00      0.00      0.00         1\n",
      "                    Other       0.00      0.00      0.00         8\n",
      " Struck By Moving Objects       0.50      0.25      0.33        12\n",
      "\n",
      "              avg / total       0.33      0.38      0.27        53\n",
      "\n"
     ]
    },
    {
     "name": "stderr",
     "output_type": "stream",
     "text": [
      "/anaconda/lib/python3.6/site-packages/sklearn/metrics/classification.py:1113: UndefinedMetricWarning: Precision and F-score are ill-defined and being set to 0.0 in labels with no predicted samples.\n",
      "  'precision', 'predicted', average, warn_for)\n"
     ]
    }
   ],
   "source": [
    "print(metrics.classification_report(y_test, predicted))"
   ]
  },
  {
   "cell_type": "markdown",
   "metadata": {},
   "source": [
    "## Decision Tree\n",
    "* dt1_clf - classifier based on Title text\n",
    "* dt2_clf - classifier based on Summary text"
   ]
  },
  {
   "cell_type": "code",
   "execution_count": 16,
   "metadata": {
    "collapsed": true
   },
   "outputs": [],
   "source": [
    "dt1_clf = Pipeline([('vect', CountVectorizer(analyzer=text_process)),  \n",
    "                     ('tfidf', TfidfTransformer()),\n",
    "                      ('clf', tree.DecisionTreeClassifier())\n",
    "                    ])\n",
    "dt2_clf = Pipeline([('vect', CountVectorizer(analyzer=text_process)),  \n",
    "                     ('tfidf', TfidfTransformer()),\n",
    "                      ('clf', tree.DecisionTreeClassifier())\n",
    "                    ])"
   ]
  },
  {
   "cell_type": "code",
   "execution_count": 17,
   "metadata": {},
   "outputs": [
    {
     "data": {
      "text/plain": [
       "Pipeline(steps=[('vect', CountVectorizer(analyzer=<function text_process at 0x11df6de18>, binary=False,\n",
       "        decode_error='strict', dtype=<class 'numpy.int64'>,\n",
       "        encoding='utf-8', input='content', lowercase=True, max_df=1.0,\n",
       "        max_features=None, min_df=1, ngram_range=(1, 1), preprocessor=None...it=2, min_weight_fraction_leaf=0.0,\n",
       "            presort=False, random_state=None, splitter='best'))])"
      ]
     },
     "execution_count": 17,
     "metadata": {},
     "output_type": "execute_result"
    }
   ],
   "source": [
    "dt1_clf.fit(X_Title_train,y_train ) "
   ]
  },
  {
   "cell_type": "code",
   "execution_count": 18,
   "metadata": {},
   "outputs": [
    {
     "name": "stdout",
     "output_type": "stream",
     "text": [
      "[[ 5  0  0  0  1  0  0  5  0]\n",
      " [ 0  2  0  0  0  0  1  0  0]\n",
      " [ 0  0  1  0  0  0  0  0  0]\n",
      " [ 0  0  0  0  0  0  0  0  0]\n",
      " [ 1  0  0  0 16  0  0  0  0]\n",
      " [ 0  0  0  1  0  0  0  0  0]\n",
      " [ 0  0  0  1  0  0  0  5  2]\n",
      " [ 1  0  0  0  0  0  0 10  1]\n",
      " [ 0  0  0  0  0  0  0  0  0]]\n",
      "0.641509433962\n"
     ]
    }
   ],
   "source": [
    "predicted = dt1_clf.predict(X_Title_test)\n",
    " \n",
    "print(metrics.confusion_matrix(y_test, predicted))\n",
    "print(np.mean(predicted == y_test) )"
   ]
  },
  {
   "cell_type": "code",
   "execution_count": 19,
   "metadata": {},
   "outputs": [
    {
     "name": "stdout",
     "output_type": "stream",
     "text": [
      "                                  precision    recall  f1-score   support\n",
      "\n",
      "       Caught in/between Objects       0.71      0.45      0.56        11\n",
      "              Collapse of object       1.00      0.67      0.80         3\n",
      "                        Drowning       1.00      1.00      1.00         1\n",
      "Exposure to extreme temperatures       0.00      0.00      0.00         0\n",
      "                           Falls       0.94      0.94      0.94        17\n",
      "             Fires and Explosion       0.00      0.00      0.00         1\n",
      "                           Other       0.00      0.00      0.00         8\n",
      "        Struck By Moving Objects       0.50      0.83      0.62        12\n",
      "                     Suffocation       0.00      0.00      0.00         0\n",
      "\n",
      "                     avg / total       0.64      0.64      0.62        53\n",
      "\n"
     ]
    },
    {
     "name": "stderr",
     "output_type": "stream",
     "text": [
      "/anaconda/lib/python3.6/site-packages/sklearn/metrics/classification.py:1113: UndefinedMetricWarning: Precision and F-score are ill-defined and being set to 0.0 in labels with no predicted samples.\n",
      "  'precision', 'predicted', average, warn_for)\n",
      "/anaconda/lib/python3.6/site-packages/sklearn/metrics/classification.py:1115: UndefinedMetricWarning: Recall and F-score are ill-defined and being set to 0.0 in labels with no true samples.\n",
      "  'recall', 'true', average, warn_for)\n"
     ]
    }
   ],
   "source": [
    "print(metrics.classification_report(y_test, predicted))"
   ]
  },
  {
   "cell_type": "code",
   "execution_count": 43,
   "metadata": {},
   "outputs": [
    {
     "data": {
      "text/plain": [
       "Pipeline(steps=[('vect', CountVectorizer(analyzer=<function text_process at 0x11df6de18>, binary=False,\n",
       "        decode_error='strict', dtype=<class 'numpy.int64'>,\n",
       "        encoding='utf-8', input='content', lowercase=True, max_df=1.0,\n",
       "        max_features=None, min_df=1, ngram_range=(1, 1), preprocessor=None...it=2, min_weight_fraction_leaf=0.0,\n",
       "            presort=False, random_state=None, splitter='best'))])"
      ]
     },
     "execution_count": 43,
     "metadata": {},
     "output_type": "execute_result"
    }
   ],
   "source": [
    "dt2_clf.fit(X_Summary_train,y_train ) "
   ]
  },
  {
   "cell_type": "code",
   "execution_count": 44,
   "metadata": {},
   "outputs": [
    {
     "name": "stdout",
     "output_type": "stream",
     "text": [
      "[[ 9  0  0  0  0  1  1]\n",
      " [ 0  2  0  0  0  1  0]\n",
      " [ 1  0  0  0  0  0  0]\n",
      " [ 4  0  1 10  1  1  0]\n",
      " [ 0  0  0  0  1  0  0]\n",
      " [ 5  0  0  1  0  2  0]\n",
      " [ 5  0  0  2  1  0  4]]\n",
      "0.528301886792\n"
     ]
    }
   ],
   "source": [
    "predicted = dt2_clf.predict(X_Summary_test)\n",
    " \n",
    "print(metrics.confusion_matrix(y_test, predicted))\n",
    "print(np.mean(predicted == y_test) )"
   ]
  },
  {
   "cell_type": "code",
   "execution_count": 45,
   "metadata": {},
   "outputs": [
    {
     "name": "stdout",
     "output_type": "stream",
     "text": [
      "                           precision    recall  f1-score   support\n",
      "\n",
      "Caught in/between Objects       0.38      0.82      0.51        11\n",
      "       Collapse of object       1.00      0.67      0.80         3\n",
      "                 Drowning       0.00      0.00      0.00         1\n",
      "                    Falls       0.77      0.59      0.67        17\n",
      "      Fires and Explosion       0.33      1.00      0.50         1\n",
      "                    Other       0.40      0.25      0.31         8\n",
      " Struck By Moving Objects       0.80      0.33      0.47        12\n",
      "\n",
      "              avg / total       0.63      0.53      0.53        53\n",
      "\n"
     ]
    }
   ],
   "source": [
    "print(metrics.classification_report(y_test, predicted))"
   ]
  },
  {
   "cell_type": "markdown",
   "metadata": {},
   "source": [
    "## SVM\n",
    "\n",
    "* sv1_clf - classifier based on Title text\n",
    "* sv2_clf - classifier based on Summary text"
   ]
  },
  {
   "cell_type": "code",
   "execution_count": 23,
   "metadata": {
    "collapsed": true
   },
   "outputs": [],
   "source": [
    "sv1_clf = Pipeline([('vect', CountVectorizer(analyzer=text_process)),\n",
    "                     ('tfidf', TfidfTransformer(use_idf=True)),\n",
    "                      ('clf', SGDClassifier(\n",
    "                                            alpha=1e-3 \n",
    "                                             ))\n",
    "                    ])\n",
    "\n",
    "sv2_clf = Pipeline([('vect', CountVectorizer(analyzer=text_process)),\n",
    "                     ('tfidf', TfidfTransformer(use_idf=True)),\n",
    "                      ('clf', SGDClassifier(\n",
    "                                            alpha=1e-3 \n",
    "                                             ))\n",
    "                    ])"
   ]
  },
  {
   "cell_type": "code",
   "execution_count": 24,
   "metadata": {},
   "outputs": [
    {
     "data": {
      "text/plain": [
       "Pipeline(steps=[('vect', CountVectorizer(analyzer=<function text_process at 0x11df6de18>, binary=False,\n",
       "        decode_error='strict', dtype=<class 'numpy.int64'>,\n",
       "        encoding='utf-8', input='content', lowercase=True, max_df=1.0,\n",
       "        max_features=None, min_df=1, ngram_range=(1, 1), preprocessor=None...   penalty='l2', power_t=0.5, random_state=None, shuffle=True,\n",
       "       verbose=0, warm_start=False))])"
      ]
     },
     "execution_count": 24,
     "metadata": {},
     "output_type": "execute_result"
    }
   ],
   "source": [
    "sv1_clf.fit(X_Title_train,y_train ) "
   ]
  },
  {
   "cell_type": "code",
   "execution_count": 25,
   "metadata": {},
   "outputs": [
    {
     "name": "stdout",
     "output_type": "stream",
     "text": [
      "[[ 9  0  0  0  0  0  0  2]\n",
      " [ 0  2  0  0  0  0  1  0]\n",
      " [ 0  0  1  0  0  0  0  0]\n",
      " [ 0  0  0  0  0  0  0  0]\n",
      " [ 1  0  0  0 15  0  0  1]\n",
      " [ 0  0  0  1  0  0  0  0]\n",
      " [ 1  0  0  3  1  0  1  2]\n",
      " [ 2  0  0  0  0  0  0 10]]\n",
      "0.716981132075\n"
     ]
    }
   ],
   "source": [
    "predicted = sv1_clf.predict(X_Title_test)\n",
    " \n",
    "print(metrics.confusion_matrix(y_test, predicted))\n",
    "print(np.mean(predicted == y_test) )"
   ]
  },
  {
   "cell_type": "code",
   "execution_count": 26,
   "metadata": {},
   "outputs": [
    {
     "name": "stdout",
     "output_type": "stream",
     "text": [
      "                           precision    recall  f1-score   support\n",
      "\n",
      "Caught in/between Objects       0.69      0.82      0.75        11\n",
      "       Collapse of object       1.00      0.67      0.80         3\n",
      "                 Drowning       1.00      1.00      1.00         1\n",
      "            Electrocution       0.00      0.00      0.00         0\n",
      "                    Falls       0.94      0.88      0.91        17\n",
      "      Fires and Explosion       0.00      0.00      0.00         1\n",
      "                    Other       0.50      0.12      0.20         8\n",
      " Struck By Moving Objects       0.67      0.83      0.74        12\n",
      "\n",
      "              avg / total       0.75      0.72      0.71        53\n",
      "\n"
     ]
    },
    {
     "name": "stderr",
     "output_type": "stream",
     "text": [
      "/anaconda/lib/python3.6/site-packages/sklearn/metrics/classification.py:1113: UndefinedMetricWarning: Precision and F-score are ill-defined and being set to 0.0 in labels with no predicted samples.\n",
      "  'precision', 'predicted', average, warn_for)\n",
      "/anaconda/lib/python3.6/site-packages/sklearn/metrics/classification.py:1115: UndefinedMetricWarning: Recall and F-score are ill-defined and being set to 0.0 in labels with no true samples.\n",
      "  'recall', 'true', average, warn_for)\n"
     ]
    }
   ],
   "source": [
    "print(metrics.classification_report(y_test, predicted))"
   ]
  },
  {
   "cell_type": "code",
   "execution_count": 48,
   "metadata": {},
   "outputs": [
    {
     "data": {
      "text/plain": [
       "Pipeline(steps=[('vect', CountVectorizer(analyzer=<function text_process at 0x11df6de18>, binary=False,\n",
       "        decode_error='strict', dtype=<class 'numpy.int64'>,\n",
       "        encoding='utf-8', input='content', lowercase=True, max_df=1.0,\n",
       "        max_features=None, min_df=1, ngram_range=(1, 1), preprocessor=None...   penalty='l2', power_t=0.5, random_state=None, shuffle=True,\n",
       "       verbose=0, warm_start=False))])"
      ]
     },
     "execution_count": 48,
     "metadata": {},
     "output_type": "execute_result"
    }
   ],
   "source": [
    "sv2_clf.fit(X_Summary_train,y_train ) "
   ]
  },
  {
   "cell_type": "code",
   "execution_count": 49,
   "metadata": {},
   "outputs": [
    {
     "name": "stdout",
     "output_type": "stream",
     "text": [
      "[[ 7  2  0  0  0  0  1  1]\n",
      " [ 0  1  0  0  1  0  1  0]\n",
      " [ 0  0  1  0  0  0  0  0]\n",
      " [ 0  0  0  0  0  0  0  0]\n",
      " [ 0  0  1  0 16  0  0  0]\n",
      " [ 1  0  0  0  0  0  0  0]\n",
      " [ 2  0  0  3  1  1  0  1]\n",
      " [ 2  0  3  0  1  1  0  5]]\n",
      "0.566037735849\n"
     ]
    }
   ],
   "source": [
    "predicted = sv2_clf.predict(X_Title_test)\n",
    " \n",
    "print(metrics.confusion_matrix(y_test, predicted))\n",
    "print(np.mean(predicted == y_test) )"
   ]
  },
  {
   "cell_type": "code",
   "execution_count": 50,
   "metadata": {},
   "outputs": [
    {
     "name": "stdout",
     "output_type": "stream",
     "text": [
      "                           precision    recall  f1-score   support\n",
      "\n",
      "Caught in/between Objects       0.58      0.64      0.61        11\n",
      "       Collapse of object       0.33      0.33      0.33         3\n",
      "                 Drowning       0.20      1.00      0.33         1\n",
      "            Electrocution       0.00      0.00      0.00         0\n",
      "                    Falls       0.84      0.94      0.89        17\n",
      "      Fires and Explosion       0.00      0.00      0.00         1\n",
      "                    Other       0.00      0.00      0.00         8\n",
      " Struck By Moving Objects       0.71      0.42      0.53        12\n",
      "\n",
      "              avg / total       0.58      0.57      0.56        53\n",
      "\n"
     ]
    },
    {
     "name": "stderr",
     "output_type": "stream",
     "text": [
      "/anaconda/lib/python3.6/site-packages/sklearn/metrics/classification.py:1115: UndefinedMetricWarning: Recall and F-score are ill-defined and being set to 0.0 in labels with no true samples.\n",
      "  'recall', 'true', average, warn_for)\n"
     ]
    }
   ],
   "source": [
    "print(metrics.classification_report(y_test, predicted))"
   ]
  },
  {
   "cell_type": "markdown",
   "metadata": {
    "collapsed": true
   },
   "source": [
    "## Label osha data\n",
    "\n",
    "Use SVM model with Summary data"
   ]
  },
  {
   "cell_type": "code",
   "execution_count": 30,
   "metadata": {},
   "outputs": [],
   "source": [
    "osha['Cause'] = sv2_clf.predict(osha.Summary).tolist()"
   ]
  },
  {
   "cell_type": "code",
   "execution_count": 31,
   "metadata": {},
   "outputs": [],
   "source": [
    "osha = osha.applymap(str)"
   ]
  },
  {
   "cell_type": "code",
   "execution_count": 32,
   "metadata": {},
   "outputs": [],
   "source": [
    "osha['Cause'] = sv1_clf.predict(osha['Title']).tolist()"
   ]
  },
  {
   "cell_type": "code",
   "execution_count": 33,
   "metadata": {},
   "outputs": [
    {
     "data": {
      "text/html": [
       "<div>\n",
       "<style>\n",
       "    .dataframe thead tr:only-child th {\n",
       "        text-align: right;\n",
       "    }\n",
       "\n",
       "    .dataframe thead th {\n",
       "        text-align: left;\n",
       "    }\n",
       "\n",
       "    .dataframe tbody tr th {\n",
       "        vertical-align: top;\n",
       "    }\n",
       "</style>\n",
       "<table border=\"1\" class=\"dataframe\">\n",
       "  <thead>\n",
       "    <tr style=\"text-align: right;\">\n",
       "      <th></th>\n",
       "      <th>Cause</th>\n",
       "      <th>Summary</th>\n",
       "    </tr>\n",
       "    <tr>\n",
       "      <th>0</th>\n",
       "      <th></th>\n",
       "      <th></th>\n",
       "    </tr>\n",
       "  </thead>\n",
       "  <tbody>\n",
       "    <tr>\n",
       "      <th>201079928</th>\n",
       "      <td>Exposure to extreme temperatures</td>\n",
       "      <td>burn  industrial truck  waste proc fac  pa...</td>\n",
       "    </tr>\n",
       "    <tr>\n",
       "      <th>202561825</th>\n",
       "      <td>Struck By Moving Objects</td>\n",
       "      <td>truck  flatbed truck  trailer  fall  abdomen</td>\n",
       "    </tr>\n",
       "    <tr>\n",
       "      <th>200361855</th>\n",
       "      <td>Struck By Moving Objects</td>\n",
       "      <td>construction  undrgrd power line  highway ...</td>\n",
       "    </tr>\n",
       "    <tr>\n",
       "      <th>200361863</th>\n",
       "      <td>Struck By Moving Objects</td>\n",
       "      <td>waste proc fac  industrial truck  struck b...</td>\n",
       "    </tr>\n",
       "    <tr>\n",
       "      <th>201079324</th>\n",
       "      <td>Exposure to extreme temperatures</td>\n",
       "      <td>truck driver  pump  tank  hot water  struc...</td>\n",
       "    </tr>\n",
       "  </tbody>\n",
       "</table>\n",
       "</div>"
      ],
      "text/plain": [
       "                                      Cause  \\\n",
       "0                                             \n",
       "201079928  Exposure to extreme temperatures   \n",
       "202561825          Struck By Moving Objects   \n",
       "200361855          Struck By Moving Objects   \n",
       "200361863          Struck By Moving Objects   \n",
       "201079324  Exposure to extreme temperatures   \n",
       "\n",
       "                                                     Summary  \n",
       "0                                                             \n",
       "201079928      burn  industrial truck  waste proc fac  pa...  \n",
       "202561825      truck  flatbed truck  trailer  fall  abdomen   \n",
       "200361855      construction  undrgrd power line  highway ...  \n",
       "200361863      waste proc fac  industrial truck  struck b...  \n",
       "201079324      truck driver  pump  tank  hot water  struc...  "
      ]
     },
     "execution_count": 33,
     "metadata": {},
     "output_type": "execute_result"
    }
   ],
   "source": [
    "osha[['Cause','Summary']].head()"
   ]
  },
  {
   "cell_type": "code",
   "execution_count": 34,
   "metadata": {},
   "outputs": [
    {
     "data": {
      "text/html": [
       "<div>\n",
       "<style>\n",
       "    .dataframe thead tr:only-child th {\n",
       "        text-align: right;\n",
       "    }\n",
       "\n",
       "    .dataframe thead th {\n",
       "        text-align: left;\n",
       "    }\n",
       "\n",
       "    .dataframe tbody tr th {\n",
       "        vertical-align: top;\n",
       "    }\n",
       "</style>\n",
       "<table border=\"1\" class=\"dataframe\">\n",
       "  <thead>\n",
       "    <tr style=\"text-align: right;\">\n",
       "      <th></th>\n",
       "      <th>Count</th>\n",
       "      <th>Percentage</th>\n",
       "    </tr>\n",
       "    <tr>\n",
       "      <th>Cause</th>\n",
       "      <th></th>\n",
       "      <th></th>\n",
       "    </tr>\n",
       "  </thead>\n",
       "  <tbody>\n",
       "    <tr>\n",
       "      <th>Caught in/between Objects</th>\n",
       "      <td>1967</td>\n",
       "      <td>12.050481</td>\n",
       "    </tr>\n",
       "    <tr>\n",
       "      <th>Collapse of object</th>\n",
       "      <td>409</td>\n",
       "      <td>2.505667</td>\n",
       "    </tr>\n",
       "    <tr>\n",
       "      <th>Drowning</th>\n",
       "      <td>177</td>\n",
       "      <td>1.084359</td>\n",
       "    </tr>\n",
       "    <tr>\n",
       "      <th>Electrocution</th>\n",
       "      <td>1381</td>\n",
       "      <td>8.460455</td>\n",
       "    </tr>\n",
       "    <tr>\n",
       "      <th>Exposure to Chemical Substances</th>\n",
       "      <td>319</td>\n",
       "      <td>1.954298</td>\n",
       "    </tr>\n",
       "    <tr>\n",
       "      <th>Exposure to extreme temperatures</th>\n",
       "      <td>1499</td>\n",
       "      <td>9.183361</td>\n",
       "    </tr>\n",
       "    <tr>\n",
       "      <th>Falls</th>\n",
       "      <td>3326</td>\n",
       "      <td>20.376156</td>\n",
       "    </tr>\n",
       "    <tr>\n",
       "      <th>Fires and Explosion</th>\n",
       "      <td>552</td>\n",
       "      <td>3.381731</td>\n",
       "    </tr>\n",
       "    <tr>\n",
       "      <th>Other</th>\n",
       "      <td>285</td>\n",
       "      <td>1.746003</td>\n",
       "    </tr>\n",
       "    <tr>\n",
       "      <th>Struck By Moving Objects</th>\n",
       "      <td>6159</td>\n",
       "      <td>37.732035</td>\n",
       "    </tr>\n",
       "    <tr>\n",
       "      <th>Suffocation</th>\n",
       "      <td>249</td>\n",
       "      <td>1.525455</td>\n",
       "    </tr>\n",
       "  </tbody>\n",
       "</table>\n",
       "</div>"
      ],
      "text/plain": [
       "                                  Count  Percentage\n",
       "Cause                                              \n",
       "Caught in/between Objects          1967   12.050481\n",
       "Collapse of object                  409    2.505667\n",
       "Drowning                            177    1.084359\n",
       "Electrocution                      1381    8.460455\n",
       "Exposure to Chemical Substances     319    1.954298\n",
       "Exposure to extreme temperatures   1499    9.183361\n",
       "Falls                              3326   20.376156\n",
       "Fires and Explosion                 552    3.381731\n",
       "Other                               285    1.746003\n",
       "Struck By Moving Objects           6159   37.732035\n",
       "Suffocation                         249    1.525455"
      ]
     },
     "execution_count": 34,
     "metadata": {},
     "output_type": "execute_result"
    }
   ],
   "source": [
    "summary = osha.groupby('Cause').Cause.count()\n",
    "dfSummary = pd.DataFrame(summary)\n",
    "dfSummary = dfSummary.rename(columns={'Cause': 'Count'})\n",
    "total = dfSummary['Count'].sum()\n",
    "dfSummary['Percentage'] = (dfSummary['Count']/total)*100\n",
    "dfSummary"
   ]
  },
  {
   "cell_type": "markdown",
   "metadata": {},
   "source": [
    "## Determine whether incident was fatal"
   ]
  },
  {
   "cell_type": "code",
   "execution_count": 35,
   "metadata": {
    "collapsed": true
   },
   "outputs": [],
   "source": [
    "list_ = ['killed','fatally', 'fatal', 'dies', 'asphyxiated', 'die', \n",
    "         'doa', 'deceased', 'dead', 'death', 'kills', 'kill', 'drowned']\n",
    "\n",
    "osha['Fatal'] = False\n",
    "for index, row in osha.iterrows():\n",
    "    if (any(word in str(row.Title).lower() for word in list_)\n",
    "        or any(word in str(row.Description).lower() for word in list_)):\n",
    "        osha.loc[index, 'Fatal'] = True"
   ]
  },
  {
   "cell_type": "code",
   "execution_count": 36,
   "metadata": {},
   "outputs": [
    {
     "data": {
      "text/html": [
       "<div>\n",
       "<style>\n",
       "    .dataframe thead tr:only-child th {\n",
       "        text-align: right;\n",
       "    }\n",
       "\n",
       "    .dataframe thead th {\n",
       "        text-align: left;\n",
       "    }\n",
       "\n",
       "    .dataframe tbody tr th {\n",
       "        vertical-align: top;\n",
       "    }\n",
       "</style>\n",
       "<table border=\"1\" class=\"dataframe\">\n",
       "  <thead>\n",
       "    <tr style=\"text-align: right;\">\n",
       "      <th></th>\n",
       "      <th>Title</th>\n",
       "      <th>Description</th>\n",
       "      <th>Summary</th>\n",
       "      <th>Classification</th>\n",
       "      <th>Cause</th>\n",
       "      <th>Fatal</th>\n",
       "    </tr>\n",
       "    <tr>\n",
       "      <th>0</th>\n",
       "      <th></th>\n",
       "      <th></th>\n",
       "      <th></th>\n",
       "      <th></th>\n",
       "      <th></th>\n",
       "      <th></th>\n",
       "    </tr>\n",
       "  </thead>\n",
       "  <tbody>\n",
       "    <tr>\n",
       "      <th>201079928</th>\n",
       "      <td>Employee Is Burned By Forklift Radiator Fluid</td>\n",
       "      <td>At approximately 11:30 a.m. on November 13  2...</td>\n",
       "      <td>burn  industrial truck  waste proc fac  pa...</td>\n",
       "      <td></td>\n",
       "      <td>Exposure to extreme temperatures</td>\n",
       "      <td>False</td>\n",
       "    </tr>\n",
       "    <tr>\n",
       "      <th>202561825</th>\n",
       "      <td>Employee Falls From Flatbed Trailer And Later...</td>\n",
       "      <td>On August 30  2013  Employee #1 was working f...</td>\n",
       "      <td>truck  flatbed truck  trailer  fall  abdomen</td>\n",
       "      <td></td>\n",
       "      <td>Struck By Moving Objects</td>\n",
       "      <td>True</td>\n",
       "    </tr>\n",
       "    <tr>\n",
       "      <th>200361855</th>\n",
       "      <td>Two Workers Are Struck By Motor Vehicle And O...</td>\n",
       "      <td>On August 27  2013  Employees #1 and #2  of T...</td>\n",
       "      <td>construction  undrgrd power line  highway ...</td>\n",
       "      <td>1 317290559   Fatality Other Occupation not re...</td>\n",
       "      <td>Struck By Moving Objects</td>\n",
       "      <td>True</td>\n",
       "    </tr>\n",
       "    <tr>\n",
       "      <th>200361863</th>\n",
       "      <td>Employee Is Struck By Bales Of Wire And Killed</td>\n",
       "      <td>On August 26  2013  Employee #1  with Lee Iro...</td>\n",
       "      <td>waste proc fac  industrial truck  struck b...</td>\n",
       "      <td></td>\n",
       "      <td>Struck By Moving Objects</td>\n",
       "      <td>True</td>\n",
       "    </tr>\n",
       "    <tr>\n",
       "      <th>201079324</th>\n",
       "      <td>Employee Is Splashed With Hot Water And Is Bu...</td>\n",
       "      <td>On July 14  2013  Employee #1  vacuum pump tr...</td>\n",
       "      <td>truck driver  pump  tank  hot water  struc...</td>\n",
       "      <td></td>\n",
       "      <td>Exposure to extreme temperatures</td>\n",
       "      <td>False</td>\n",
       "    </tr>\n",
       "  </tbody>\n",
       "</table>\n",
       "</div>"
      ],
      "text/plain": [
       "                                                       Title  \\\n",
       "0                                                              \n",
       "201079928     Employee Is Burned By Forklift Radiator Fluid    \n",
       "202561825   Employee Falls From Flatbed Trailer And Later...   \n",
       "200361855   Two Workers Are Struck By Motor Vehicle And O...   \n",
       "200361863    Employee Is Struck By Bales Of Wire And Killed    \n",
       "201079324   Employee Is Splashed With Hot Water And Is Bu...   \n",
       "\n",
       "                                                 Description  \\\n",
       "0                                                              \n",
       "201079928   At approximately 11:30 a.m. on November 13  2...   \n",
       "202561825   On August 30  2013  Employee #1 was working f...   \n",
       "200361855   On August 27  2013  Employees #1 and #2  of T...   \n",
       "200361863   On August 26  2013  Employee #1  with Lee Iro...   \n",
       "201079324   On July 14  2013  Employee #1  vacuum pump tr...   \n",
       "\n",
       "                                                     Summary  \\\n",
       "0                                                              \n",
       "201079928      burn  industrial truck  waste proc fac  pa...   \n",
       "202561825      truck  flatbed truck  trailer  fall  abdomen    \n",
       "200361855      construction  undrgrd power line  highway ...   \n",
       "200361863      waste proc fac  industrial truck  struck b...   \n",
       "201079324      truck driver  pump  tank  hot water  struc...   \n",
       "\n",
       "                                              Classification  \\\n",
       "0                                                              \n",
       "201079928                                                      \n",
       "202561825                                                      \n",
       "200361855  1 317290559   Fatality Other Occupation not re...   \n",
       "200361863                                                      \n",
       "201079324                                                      \n",
       "\n",
       "                                      Cause  Fatal  \n",
       "0                                                   \n",
       "201079928  Exposure to extreme temperatures  False  \n",
       "202561825          Struck By Moving Objects   True  \n",
       "200361855          Struck By Moving Objects   True  \n",
       "200361863          Struck By Moving Objects   True  \n",
       "201079324  Exposure to extreme temperatures  False  "
      ]
     },
     "execution_count": 36,
     "metadata": {},
     "output_type": "execute_result"
    }
   ],
   "source": [
    "osha.head()"
   ]
  },
  {
   "cell_type": "markdown",
   "metadata": {},
   "source": [
    "## Output results to CSV file"
   ]
  },
  {
   "cell_type": "code",
   "execution_count": 37,
   "metadata": {
    "collapsed": true
   },
   "outputs": [],
   "source": [
    "osha.to_csv(\"osha1.csv\", index_label='Case')"
   ]
  },
  {
   "cell_type": "markdown",
   "metadata": {
    "collapsed": true
   },
   "source": [
    "## Determine which Accident types are more commonly resulting in fatality or catastrophe"
   ]
  },
  {
   "cell_type": "code",
   "execution_count": 38,
   "metadata": {},
   "outputs": [
    {
     "data": {
      "text/plain": [
       "(6816, 6)"
      ]
     },
     "execution_count": 38,
     "metadata": {},
     "output_type": "execute_result"
    }
   ],
   "source": [
    "dfFatalOsha = osha[osha['Fatal']==True]\n",
    "dfFatalOsha.shape"
   ]
  },
  {
   "cell_type": "code",
   "execution_count": 39,
   "metadata": {},
   "outputs": [
    {
     "data": {
      "text/plain": [
       "Cause\n",
       "Caught in/between Objects            830\n",
       "Collapse of object                   206\n",
       "Drowning                             154\n",
       "Electrocution                        409\n",
       "Exposure to Chemical Substances      106\n",
       "Exposure to extreme temperatures     306\n",
       "Falls                               1430\n",
       "Fires and Explosion                  348\n",
       "Other                                146\n",
       "Struck By Moving Objects            2774\n",
       "Suffocation                          107\n",
       "Name: Cause, dtype: int64"
      ]
     },
     "execution_count": 39,
     "metadata": {},
     "output_type": "execute_result"
    }
   ],
   "source": [
    "summary = dfFatalOsha.groupby('Cause').Cause.count()\n",
    "summary"
   ]
  },
  {
   "cell_type": "code",
   "execution_count": 40,
   "metadata": {},
   "outputs": [
    {
     "data": {
      "text/html": [
       "<div>\n",
       "<style>\n",
       "    .dataframe thead tr:only-child th {\n",
       "        text-align: right;\n",
       "    }\n",
       "\n",
       "    .dataframe thead th {\n",
       "        text-align: left;\n",
       "    }\n",
       "\n",
       "    .dataframe tbody tr th {\n",
       "        vertical-align: top;\n",
       "    }\n",
       "</style>\n",
       "<table border=\"1\" class=\"dataframe\">\n",
       "  <thead>\n",
       "    <tr style=\"text-align: right;\">\n",
       "      <th></th>\n",
       "      <th>Count</th>\n",
       "      <th>Percentage</th>\n",
       "    </tr>\n",
       "    <tr>\n",
       "      <th>Cause</th>\n",
       "      <th></th>\n",
       "      <th></th>\n",
       "    </tr>\n",
       "  </thead>\n",
       "  <tbody>\n",
       "    <tr>\n",
       "      <th>Caught in/between Objects</th>\n",
       "      <td>830</td>\n",
       "      <td>12.177230</td>\n",
       "    </tr>\n",
       "    <tr>\n",
       "      <th>Collapse of object</th>\n",
       "      <td>206</td>\n",
       "      <td>3.022300</td>\n",
       "    </tr>\n",
       "    <tr>\n",
       "      <th>Drowning</th>\n",
       "      <td>154</td>\n",
       "      <td>2.259390</td>\n",
       "    </tr>\n",
       "    <tr>\n",
       "      <th>Electrocution</th>\n",
       "      <td>409</td>\n",
       "      <td>6.000587</td>\n",
       "    </tr>\n",
       "    <tr>\n",
       "      <th>Exposure to Chemical Substances</th>\n",
       "      <td>106</td>\n",
       "      <td>1.555164</td>\n",
       "    </tr>\n",
       "    <tr>\n",
       "      <th>Exposure to extreme temperatures</th>\n",
       "      <td>306</td>\n",
       "      <td>4.489437</td>\n",
       "    </tr>\n",
       "    <tr>\n",
       "      <th>Falls</th>\n",
       "      <td>1430</td>\n",
       "      <td>20.980047</td>\n",
       "    </tr>\n",
       "    <tr>\n",
       "      <th>Fires and Explosion</th>\n",
       "      <td>348</td>\n",
       "      <td>5.105634</td>\n",
       "    </tr>\n",
       "    <tr>\n",
       "      <th>Other</th>\n",
       "      <td>146</td>\n",
       "      <td>2.142019</td>\n",
       "    </tr>\n",
       "    <tr>\n",
       "      <th>Struck By Moving Objects</th>\n",
       "      <td>2774</td>\n",
       "      <td>40.698357</td>\n",
       "    </tr>\n",
       "    <tr>\n",
       "      <th>Suffocation</th>\n",
       "      <td>107</td>\n",
       "      <td>1.569836</td>\n",
       "    </tr>\n",
       "  </tbody>\n",
       "</table>\n",
       "</div>"
      ],
      "text/plain": [
       "                                  Count  Percentage\n",
       "Cause                                              \n",
       "Caught in/between Objects           830   12.177230\n",
       "Collapse of object                  206    3.022300\n",
       "Drowning                            154    2.259390\n",
       "Electrocution                       409    6.000587\n",
       "Exposure to Chemical Substances     106    1.555164\n",
       "Exposure to extreme temperatures    306    4.489437\n",
       "Falls                              1430   20.980047\n",
       "Fires and Explosion                 348    5.105634\n",
       "Other                               146    2.142019\n",
       "Struck By Moving Objects           2774   40.698357\n",
       "Suffocation                         107    1.569836"
      ]
     },
     "execution_count": 40,
     "metadata": {},
     "output_type": "execute_result"
    }
   ],
   "source": [
    "dfSummary = pd.DataFrame(summary)\n",
    "dfSummary = dfSummary.rename(columns={'Cause': 'Count'})\n",
    "total = dfSummary['Count'].sum()\n",
    "dfSummary['Percentage'] = (dfSummary['Count']/total)*100\n",
    "dfSummary"
   ]
  },
  {
   "cell_type": "code",
   "execution_count": null,
   "metadata": {
    "collapsed": true
   },
   "outputs": [],
   "source": []
  }
 ],
 "metadata": {
  "kernelspec": {
   "display_name": "Python 3",
   "language": "python",
   "name": "python3"
  },
  "language_info": {
   "codemirror_mode": {
    "name": "ipython",
    "version": 3
   },
   "file_extension": ".py",
   "mimetype": "text/x-python",
   "name": "python",
   "nbconvert_exporter": "python",
   "pygments_lexer": "ipython3",
   "version": "3.6.1"
  }
 },
 "nbformat": 4,
 "nbformat_minor": 2
}
