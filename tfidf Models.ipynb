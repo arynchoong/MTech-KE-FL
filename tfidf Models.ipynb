{
 "cells": [
  {
   "cell_type": "markdown",
   "metadata": {},
   "source": [
    "### Build classifer to label causes for OSHA data\n",
    "\n",
    "* Use Malaysia pre-labelled data to build a classifier to label OSHA.xls data\n",
    "* Test three types of classifiers (Naive Bayes, Decision Tree, SVM)"
   ]
  },
  {
   "cell_type": "code",
   "execution_count": 1,
   "metadata": {
    "collapsed": true
   },
   "outputs": [],
   "source": [
    "# import dependencies\n",
    "\n",
    "import matplotlib.pyplot as plt\n",
    "import pandas as pd\n",
    "import numpy as np\n",
    "from sklearn.feature_extraction.text import CountVectorizer\n",
    "from sklearn.feature_extraction.text import TfidfTransformer\n",
    "from sklearn import metrics \n",
    "from sklearn.pipeline import Pipeline\n",
    "from sklearn.naive_bayes import MultinomialNB\n",
    "from sklearn.linear_model import SGDClassifier\n",
    "from sklearn import tree\n",
    "\n",
    "import string\n",
    "\n",
    "import nltk\n",
    "from nltk.stem.snowball import SnowballStemmer\n",
    "from nltk import word_tokenize          \n",
    "from nltk.stem import WordNetLemmatizer \n",
    "%matplotlib inline"
   ]
  },
  {
   "cell_type": "code",
   "execution_count": 2,
   "metadata": {
    "collapsed": true
   },
   "outputs": [],
   "source": [
    "osha=pd.read_excel('osha.xlsx',names = [\"Case\", \"Title\", \"Description\",\"Summary\", \"Classification\"])"
   ]
  },
  {
   "cell_type": "code",
   "execution_count": 3,
   "metadata": {
    "collapsed": true
   },
   "outputs": [],
   "source": [
    "# Read in labelled Malaysia Data\n",
    "report_train=pd.read_excel('MsiaAccidentCasesTrain.xlsx',names = [\"Cause\", \"Title\", \"Summary\"])\n",
    "report_test=pd.read_excel('MsiaAccidentCasesTest.xlsx',names = [\"Cause\", \"Title\", \"Summary\"])"
   ]
  },
  {
   "cell_type": "code",
   "execution_count": 4,
   "metadata": {},
   "outputs": [
    {
     "data": {
      "text/html": [
       "<div>\n",
       "<style>\n",
       "    .dataframe thead tr:only-child th {\n",
       "        text-align: right;\n",
       "    }\n",
       "\n",
       "    .dataframe thead th {\n",
       "        text-align: left;\n",
       "    }\n",
       "\n",
       "    .dataframe tbody tr th {\n",
       "        vertical-align: top;\n",
       "    }\n",
       "</style>\n",
       "<table border=\"1\" class=\"dataframe\">\n",
       "  <thead>\n",
       "    <tr>\n",
       "      <th></th>\n",
       "      <th colspan=\"4\" halign=\"left\">Summary</th>\n",
       "      <th colspan=\"4\" halign=\"left\">Title</th>\n",
       "    </tr>\n",
       "    <tr>\n",
       "      <th></th>\n",
       "      <th>count</th>\n",
       "      <th>unique</th>\n",
       "      <th>top</th>\n",
       "      <th>freq</th>\n",
       "      <th>count</th>\n",
       "      <th>unique</th>\n",
       "      <th>top</th>\n",
       "      <th>freq</th>\n",
       "    </tr>\n",
       "    <tr>\n",
       "      <th>Cause</th>\n",
       "      <th></th>\n",
       "      <th></th>\n",
       "      <th></th>\n",
       "      <th></th>\n",
       "      <th></th>\n",
       "      <th></th>\n",
       "      <th></th>\n",
       "      <th></th>\n",
       "    </tr>\n",
       "  </thead>\n",
       "  <tbody>\n",
       "    <tr>\n",
       "      <th>Caught in/between Objects</th>\n",
       "      <td>36</td>\n",
       "      <td>36</td>\n",
       "      <td>Victim was found pinned between a truck's body...</td>\n",
       "      <td>1</td>\n",
       "      <td>36</td>\n",
       "      <td>34</td>\n",
       "      <td>Died crushed by object</td>\n",
       "      <td>2</td>\n",
       "    </tr>\n",
       "    <tr>\n",
       "      <th>Collapse of object</th>\n",
       "      <td>5</td>\n",
       "      <td>5</td>\n",
       "      <td>A building structure collapsed while two worke...</td>\n",
       "      <td>1</td>\n",
       "      <td>5</td>\n",
       "      <td>5</td>\n",
       "      <td>Death due to structural collapse</td>\n",
       "      <td>1</td>\n",
       "    </tr>\n",
       "    <tr>\n",
       "      <th>Drowning</th>\n",
       "      <td>8</td>\n",
       "      <td>8</td>\n",
       "      <td>A child who was not being accompanied by his g...</td>\n",
       "      <td>1</td>\n",
       "      <td>8</td>\n",
       "      <td>3</td>\n",
       "      <td>Died due to drowning</td>\n",
       "      <td>6</td>\n",
       "    </tr>\n",
       "    <tr>\n",
       "      <th>Electrocution</th>\n",
       "      <td>17</td>\n",
       "      <td>17</td>\n",
       "      <td>The victim was electrocuted as he was testing ...</td>\n",
       "      <td>1</td>\n",
       "      <td>17</td>\n",
       "      <td>8</td>\n",
       "      <td>Died due to electrocution</td>\n",
       "      <td>4</td>\n",
       "    </tr>\n",
       "    <tr>\n",
       "      <th>Exposure to Chemical Substances</th>\n",
       "      <td>2</td>\n",
       "      <td>2</td>\n",
       "      <td>Victim was diagnosed with organophosphorus as ...</td>\n",
       "      <td>1</td>\n",
       "      <td>2</td>\n",
       "      <td>2</td>\n",
       "      <td>Died due to the exposure of hazardous chemical</td>\n",
       "      <td>1</td>\n",
       "    </tr>\n",
       "    <tr>\n",
       "      <th>Exposure to extreme temperatures</th>\n",
       "      <td>2</td>\n",
       "      <td>2</td>\n",
       "      <td>The victim suffered 3rd degree burns from spla...</td>\n",
       "      <td>1</td>\n",
       "      <td>2</td>\n",
       "      <td>2</td>\n",
       "      <td>Died due to contact with hot water</td>\n",
       "      <td>1</td>\n",
       "    </tr>\n",
       "    <tr>\n",
       "      <th>Falls</th>\n",
       "      <td>56</td>\n",
       "      <td>56</td>\n",
       "      <td>Victim fell from a high place while performing...</td>\n",
       "      <td>1</td>\n",
       "      <td>56</td>\n",
       "      <td>22</td>\n",
       "      <td>Died falling from height</td>\n",
       "      <td>32</td>\n",
       "    </tr>\n",
       "    <tr>\n",
       "      <th>Fires and Explosion</th>\n",
       "      <td>4</td>\n",
       "      <td>4</td>\n",
       "      <td>Three workers were died due to coal explosion</td>\n",
       "      <td>1</td>\n",
       "      <td>4</td>\n",
       "      <td>4</td>\n",
       "      <td>Died due to fire</td>\n",
       "      <td>1</td>\n",
       "    </tr>\n",
       "    <tr>\n",
       "      <th>Other</th>\n",
       "      <td>9</td>\n",
       "      <td>9</td>\n",
       "      <td>Victim was concreting the floor as support str...</td>\n",
       "      <td>1</td>\n",
       "      <td>9</td>\n",
       "      <td>8</td>\n",
       "      <td>Died being buried</td>\n",
       "      <td>2</td>\n",
       "    </tr>\n",
       "    <tr>\n",
       "      <th>Others</th>\n",
       "      <td>1</td>\n",
       "      <td>1</td>\n",
       "      <td>A worker has been stung by wasps while</td>\n",
       "      <td>1</td>\n",
       "      <td>1</td>\n",
       "      <td>1</td>\n",
       "      <td>Died stung by wasps</td>\n",
       "      <td>1</td>\n",
       "    </tr>\n",
       "    <tr>\n",
       "      <th>Struck By Moving Objects</th>\n",
       "      <td>39</td>\n",
       "      <td>39</td>\n",
       "      <td>A lorry driver died being hit by rubber wood a...</td>\n",
       "      <td>1</td>\n",
       "      <td>39</td>\n",
       "      <td>38</td>\n",
       "      <td>Fatal accident involving Express Bus</td>\n",
       "      <td>2</td>\n",
       "    </tr>\n",
       "    <tr>\n",
       "      <th>Suffocation</th>\n",
       "      <td>3</td>\n",
       "      <td>3</td>\n",
       "      <td>During the incident, the victim was carrying o...</td>\n",
       "      <td>1</td>\n",
       "      <td>3</td>\n",
       "      <td>3</td>\n",
       "      <td>Died after inhaling toxic gas</td>\n",
       "      <td>1</td>\n",
       "    </tr>\n",
       "  </tbody>\n",
       "</table>\n",
       "</div>"
      ],
      "text/plain": [
       "                                 Summary         \\\n",
       "                                   count unique   \n",
       "Cause                                             \n",
       "Caught in/between Objects             36     36   \n",
       "Collapse of object                     5      5   \n",
       "Drowning                               8      8   \n",
       "Electrocution                         17     17   \n",
       "Exposure to Chemical Substances        2      2   \n",
       "Exposure to extreme temperatures       2      2   \n",
       "Falls                                 56     56   \n",
       "Fires and Explosion                    4      4   \n",
       "Other                                  9      9   \n",
       "Others                                 1      1   \n",
       "Struck By Moving Objects              39     39   \n",
       "Suffocation                            3      3   \n",
       "\n",
       "                                                                                     \\\n",
       "                                                                                top   \n",
       "Cause                                                                                 \n",
       "Caught in/between Objects         Victim was found pinned between a truck's body...   \n",
       "Collapse of object                A building structure collapsed while two worke...   \n",
       "Drowning                          A child who was not being accompanied by his g...   \n",
       "Electrocution                     The victim was electrocuted as he was testing ...   \n",
       "Exposure to Chemical Substances   Victim was diagnosed with organophosphorus as ...   \n",
       "Exposure to extreme temperatures  The victim suffered 3rd degree burns from spla...   \n",
       "Falls                             Victim fell from a high place while performing...   \n",
       "Fires and Explosion                   Three workers were died due to coal explosion   \n",
       "Other                             Victim was concreting the floor as support str...   \n",
       "Others                                       A worker has been stung by wasps while   \n",
       "Struck By Moving Objects          A lorry driver died being hit by rubber wood a...   \n",
       "Suffocation                       During the incident, the victim was carrying o...   \n",
       "\n",
       "                                      Title         \\\n",
       "                                 freq count unique   \n",
       "Cause                                                \n",
       "Caught in/between Objects           1    36     34   \n",
       "Collapse of object                  1     5      5   \n",
       "Drowning                            1     8      3   \n",
       "Electrocution                       1    17      8   \n",
       "Exposure to Chemical Substances     1     2      2   \n",
       "Exposure to extreme temperatures    1     2      2   \n",
       "Falls                               1    56     22   \n",
       "Fires and Explosion                 1     4      4   \n",
       "Other                               1     9      8   \n",
       "Others                              1     1      1   \n",
       "Struck By Moving Objects            1    39     38   \n",
       "Suffocation                         1     3      3   \n",
       "\n",
       "                                                                                  \\\n",
       "                                                                             top   \n",
       "Cause                                                                              \n",
       "Caught in/between Objects                                 Died crushed by object   \n",
       "Collapse of object                              Death due to structural collapse   \n",
       "Drowning                                                    Died due to drowning   \n",
       "Electrocution                                          Died due to electrocution   \n",
       "Exposure to Chemical Substances   Died due to the exposure of hazardous chemical   \n",
       "Exposure to extreme temperatures              Died due to contact with hot water   \n",
       "Falls                                                   Died falling from height   \n",
       "Fires and Explosion                                             Died due to fire   \n",
       "Other                                                          Died being buried   \n",
       "Others                                                       Died stung by wasps   \n",
       "Struck By Moving Objects                    Fatal accident involving Express Bus   \n",
       "Suffocation                                        Died after inhaling toxic gas   \n",
       "\n",
       "                                       \n",
       "                                 freq  \n",
       "Cause                                  \n",
       "Caught in/between Objects           2  \n",
       "Collapse of object                  1  \n",
       "Drowning                            6  \n",
       "Electrocution                       4  \n",
       "Exposure to Chemical Substances     1  \n",
       "Exposure to extreme temperatures    1  \n",
       "Falls                              32  \n",
       "Fires and Explosion                 1  \n",
       "Other                               2  \n",
       "Others                              1  \n",
       "Struck By Moving Objects            2  \n",
       "Suffocation                         1  "
      ]
     },
     "execution_count": 4,
     "metadata": {},
     "output_type": "execute_result"
    }
   ],
   "source": [
    "report_train.groupby('Cause').describe()"
   ]
  },
  {
   "cell_type": "code",
   "execution_count": 5,
   "metadata": {
    "collapsed": true
   },
   "outputs": [],
   "source": [
    "# Prepare two sets of training and test data\n",
    "# One set based on the Summary column, One set bsed on the Title column\n",
    "\n",
    "\n",
    "X_Summary_train = report_train['Summary']\n",
    "X_Title_train = report_train['Title']\n",
    "y_train = report_train['Cause']\n",
    "\n",
    "X_Summary_test = report_test['Summary']\n",
    "X_Title_test = report_test['Title']\n",
    "y_test = report_test['Cause']"
   ]
  },
  {
   "cell_type": "code",
   "execution_count": 6,
   "metadata": {
    "collapsed": true
   },
   "outputs": [],
   "source": [
    "# Function to preprocess text\n",
    "# - remove stop words\n",
    "# - lemmanize\n",
    "# - remove punctuation\n",
    "# - remove numbers\n",
    "# - convert to lower case\n",
    "# - remove tokens which are less than 4 characters\n",
    "\n",
    "def text_process(mess):\n",
    "    stop = nltk.corpus.stopwords.words('english')\n",
    "    wnl = nltk.WordNetLemmatizer()\n",
    "    snowball = nltk.SnowballStemmer('english')\n",
    "    \n",
    "    tokens = word_tokenize(mess.replace(\"'\", \"\"))\n",
    "    tokens_nop = [ t for t in tokens if t not in string.punctuation ]\n",
    "    tokens_char = [x for x in tokens_nop if not any(c.isdigit() for c in x)]\n",
    "    tokens_lower = [ t.lower() for t in tokens_char ]\n",
    "    tokens_nostop=[ t for t in tokens_lower if t not in stop ]\n",
    "    tokens_lem = [ wnl.lemmatize(t) for t in tokens_nostop ]\n",
    "    tokens_snow = [ snowball.stem(t) for t in tokens_lem ]\n",
    "    tokens_clean = [ t for t in tokens_snow if len(t) >= 3 ]\n",
    "    \n",
    "    return tokens_clean"
   ]
  },
  {
   "cell_type": "markdown",
   "metadata": {},
   "source": [
    "## Naive Bayes\n",
    "\n",
    "* nb1_clf - classifier based on Title text\n",
    "* nb2_clf - classifier based on Summary text"
   ]
  },
  {
   "cell_type": "code",
   "execution_count": 7,
   "metadata": {
    "collapsed": true
   },
   "outputs": [],
   "source": [
    "nb1_clf = Pipeline([('vect', CountVectorizer(analyzer=text_process)),  \n",
    "                     ('tfidf', TfidfTransformer()),\n",
    "                      ('clf', MultinomialNB()),\n",
    "                    ])\n",
    "nb2_clf = Pipeline([('vect', CountVectorizer(analyzer=text_process)),  \n",
    "                     ('tfidf', TfidfTransformer()),\n",
    "                      ('clf', MultinomialNB()),\n",
    "                    ])"
   ]
  },
  {
   "cell_type": "code",
   "execution_count": 8,
   "metadata": {},
   "outputs": [
    {
     "data": {
      "text/plain": [
       "Pipeline(steps=[('vect', CountVectorizer(analyzer=<function text_process at 0x000000000CC07158>,\n",
       "        binary=False, decode_error='strict', dtype=<class 'numpy.int64'>,\n",
       "        encoding='utf-8', input='content', lowercase=True, max_df=1.0,\n",
       "        max_features=None, min_df=1, ngram_range=(1, 1), preprocess...inear_tf=False, use_idf=True)), ('clf', MultinomialNB(alpha=1.0, class_prior=None, fit_prior=True))])"
      ]
     },
     "execution_count": 8,
     "metadata": {},
     "output_type": "execute_result"
    }
   ],
   "source": [
    "nb1_clf.fit(X_Title_train,y_train ) "
   ]
  },
  {
   "cell_type": "code",
   "execution_count": 9,
   "metadata": {},
   "outputs": [
    {
     "name": "stdout",
     "output_type": "stream",
     "text": [
      "[[ 9  0  0  0  1  0  0  0]\n",
      " [ 0  0  0  0  2  0  1  0]\n",
      " [ 0  0  1  0  0  0  0  0]\n",
      " [ 0  0  0  0  1  0  0  0]\n",
      " [ 0  0  0  0 17  0  0  0]\n",
      " [ 0  0  0  1  0  0  0  0]\n",
      " [ 0  0  0  3  2  0  0  3]\n",
      " [ 2  0  0  0  0  0  0 10]]\n",
      "0.698113207547\n"
     ]
    }
   ],
   "source": [
    "predicted = nb1_clf.predict(X_Title_test)\n",
    " \n",
    "print(metrics.confusion_matrix(y_test, predicted))\n",
    "print(np.mean(predicted == y_test) )"
   ]
  },
  {
   "cell_type": "code",
   "execution_count": 10,
   "metadata": {},
   "outputs": [
    {
     "name": "stdout",
     "output_type": "stream",
     "text": [
      "                           precision    recall  f1-score   support\n",
      "\n",
      "Caught in/between Objects       0.82      0.90      0.86        10\n",
      "       Collapse of object       0.00      0.00      0.00         3\n",
      "                 Drowning       1.00      1.00      1.00         1\n",
      "            Electrocution       0.00      0.00      0.00         1\n",
      "                    Falls       0.74      1.00      0.85        17\n",
      "      Fires and Explosion       0.00      0.00      0.00         1\n",
      "                    Other       0.00      0.00      0.00         8\n",
      " Struck By Moving Objects       0.77      0.83      0.80        12\n",
      "\n",
      "              avg / total       0.58      0.70      0.63        53\n",
      "\n"
     ]
    },
    {
     "name": "stderr",
     "output_type": "stream",
     "text": [
      "C:\\Users\\vleung\\Anaconda3\\lib\\site-packages\\sklearn\\metrics\\classification.py:1113: UndefinedMetricWarning: Precision and F-score are ill-defined and being set to 0.0 in labels with no predicted samples.\n",
      "  'precision', 'predicted', average, warn_for)\n"
     ]
    }
   ],
   "source": [
    "print(metrics.classification_report(y_test, predicted))"
   ]
  },
  {
   "cell_type": "code",
   "execution_count": 11,
   "metadata": {},
   "outputs": [
    {
     "data": {
      "text/plain": [
       "Pipeline(steps=[('vect', CountVectorizer(analyzer=<function text_process at 0x000000000CC07158>,\n",
       "        binary=False, decode_error='strict', dtype=<class 'numpy.int64'>,\n",
       "        encoding='utf-8', input='content', lowercase=True, max_df=1.0,\n",
       "        max_features=None, min_df=1, ngram_range=(1, 1), preprocess...inear_tf=False, use_idf=True)), ('clf', MultinomialNB(alpha=1.0, class_prior=None, fit_prior=True))])"
      ]
     },
     "execution_count": 11,
     "metadata": {},
     "output_type": "execute_result"
    }
   ],
   "source": [
    "nb2_clf.fit(X_Summary_train,y_train ) "
   ]
  },
  {
   "cell_type": "code",
   "execution_count": 12,
   "metadata": {},
   "outputs": [
    {
     "name": "stdout",
     "output_type": "stream",
     "text": [
      "[[ 4  0  0  0  0  0  0  6]\n",
      " [ 1  0  0  0  1  0  1  0]\n",
      " [ 0  0  1  0  0  0  0  0]\n",
      " [ 0  0  0  0  0  0  0  1]\n",
      " [ 1  0  0  0 15  0  0  1]\n",
      " [ 0  0  0  0  1  0  0  0]\n",
      " [ 2  0  0  1  3  0  0  2]\n",
      " [ 3  0  0  0  1  0  0  8]]\n",
      "0.528301886792\n"
     ]
    }
   ],
   "source": [
    "predicted = nb1_clf.predict(X_Summary_test)\n",
    " \n",
    "print(metrics.confusion_matrix(y_test, predicted))\n",
    "print(np.mean(predicted == y_test) )"
   ]
  },
  {
   "cell_type": "code",
   "execution_count": 13,
   "metadata": {},
   "outputs": [
    {
     "name": "stdout",
     "output_type": "stream",
     "text": [
      "                           precision    recall  f1-score   support\n",
      "\n",
      "Caught in/between Objects       0.36      0.40      0.38        10\n",
      "       Collapse of object       0.00      0.00      0.00         3\n",
      "                 Drowning       1.00      1.00      1.00         1\n",
      "            Electrocution       0.00      0.00      0.00         1\n",
      "                    Falls       0.71      0.88      0.79        17\n",
      "      Fires and Explosion       0.00      0.00      0.00         1\n",
      "                    Other       0.00      0.00      0.00         8\n",
      " Struck By Moving Objects       0.44      0.67      0.53        12\n",
      "\n",
      "              avg / total       0.42      0.53      0.46        53\n",
      "\n"
     ]
    },
    {
     "name": "stderr",
     "output_type": "stream",
     "text": [
      "C:\\Users\\vleung\\Anaconda3\\lib\\site-packages\\sklearn\\metrics\\classification.py:1113: UndefinedMetricWarning: Precision and F-score are ill-defined and being set to 0.0 in labels with no predicted samples.\n",
      "  'precision', 'predicted', average, warn_for)\n"
     ]
    }
   ],
   "source": [
    "print(metrics.classification_report(y_test, predicted))"
   ]
  },
  {
   "cell_type": "markdown",
   "metadata": {},
   "source": [
    "## Decision Tree\n",
    "* dt1_clf - classifier based on Title text\n",
    "* dt2_clf - classifier based on Summary text"
   ]
  },
  {
   "cell_type": "code",
   "execution_count": 14,
   "metadata": {
    "collapsed": true
   },
   "outputs": [],
   "source": [
    "dt1_clf = Pipeline([('vect', CountVectorizer(analyzer=text_process)),  \n",
    "                     ('tfidf', TfidfTransformer()),\n",
    "                      ('clf', tree.DecisionTreeClassifier())\n",
    "                    ])\n",
    "dt2_clf = Pipeline([('vect', CountVectorizer(analyzer=text_process)),  \n",
    "                     ('tfidf', TfidfTransformer()),\n",
    "                      ('clf', tree.DecisionTreeClassifier())\n",
    "                    ])"
   ]
  },
  {
   "cell_type": "code",
   "execution_count": 15,
   "metadata": {},
   "outputs": [
    {
     "data": {
      "text/plain": [
       "Pipeline(steps=[('vect', CountVectorizer(analyzer=<function text_process at 0x000000000CC07158>,\n",
       "        binary=False, decode_error='strict', dtype=<class 'numpy.int64'>,\n",
       "        encoding='utf-8', input='content', lowercase=True, max_df=1.0,\n",
       "        max_features=None, min_df=1, ngram_range=(1, 1), preprocess...it=2, min_weight_fraction_leaf=0.0,\n",
       "            presort=False, random_state=None, splitter='best'))])"
      ]
     },
     "execution_count": 15,
     "metadata": {},
     "output_type": "execute_result"
    }
   ],
   "source": [
    "dt1_clf.fit(X_Title_train,y_train ) "
   ]
  },
  {
   "cell_type": "code",
   "execution_count": 16,
   "metadata": {},
   "outputs": [
    {
     "name": "stdout",
     "output_type": "stream",
     "text": [
      "[[ 4  0  0  0  0  1  0  0  5]\n",
      " [ 0  2  0  0  0  0  0  1  0]\n",
      " [ 0  0  1  0  0  0  0  0  0]\n",
      " [ 1  0  0  0  0  0  0  0  0]\n",
      " [ 0  0  0  0  0  0  0  0  0]\n",
      " [ 1  0  0  0  0 16  0  0  0]\n",
      " [ 0  0  0  0  1  0  0  0  0]\n",
      " [ 0  0  0  0  1  0  0  0  7]\n",
      " [ 1  0  0  0  0  0  0  0 11]]\n",
      "0.641509433962\n"
     ]
    }
   ],
   "source": [
    "predicted = dt1_clf.predict(X_Title_test)\n",
    " \n",
    "print(metrics.confusion_matrix(y_test, predicted))\n",
    "print(np.mean(predicted == y_test) )"
   ]
  },
  {
   "cell_type": "code",
   "execution_count": 17,
   "metadata": {},
   "outputs": [
    {
     "name": "stdout",
     "output_type": "stream",
     "text": [
      "                                  precision    recall  f1-score   support\n",
      "\n",
      "       Caught in/between Objects       0.57      0.40      0.47        10\n",
      "              Collapse of object       1.00      0.67      0.80         3\n",
      "                        Drowning       1.00      1.00      1.00         1\n",
      "                   Electrocution       0.00      0.00      0.00         1\n",
      "Exposure to extreme temperatures       0.00      0.00      0.00         0\n",
      "                           Falls       0.94      0.94      0.94        17\n",
      "             Fires and Explosion       0.00      0.00      0.00         1\n",
      "                           Other       0.00      0.00      0.00         8\n",
      "        Struck By Moving Objects       0.48      0.92      0.63        12\n",
      "\n",
      "                     avg / total       0.59      0.64      0.60        53\n",
      "\n"
     ]
    },
    {
     "name": "stderr",
     "output_type": "stream",
     "text": [
      "C:\\Users\\vleung\\Anaconda3\\lib\\site-packages\\sklearn\\metrics\\classification.py:1113: UndefinedMetricWarning: Precision and F-score are ill-defined and being set to 0.0 in labels with no predicted samples.\n",
      "  'precision', 'predicted', average, warn_for)\n",
      "C:\\Users\\vleung\\Anaconda3\\lib\\site-packages\\sklearn\\metrics\\classification.py:1115: UndefinedMetricWarning: Recall and F-score are ill-defined and being set to 0.0 in labels with no true samples.\n",
      "  'recall', 'true', average, warn_for)\n"
     ]
    }
   ],
   "source": [
    "print(metrics.classification_report(y_test, predicted))"
   ]
  },
  {
   "cell_type": "code",
   "execution_count": 18,
   "metadata": {},
   "outputs": [
    {
     "data": {
      "text/plain": [
       "Pipeline(steps=[('vect', CountVectorizer(analyzer=<function text_process at 0x000000000CC07158>,\n",
       "        binary=False, decode_error='strict', dtype=<class 'numpy.int64'>,\n",
       "        encoding='utf-8', input='content', lowercase=True, max_df=1.0,\n",
       "        max_features=None, min_df=1, ngram_range=(1, 1), preprocess...it=2, min_weight_fraction_leaf=0.0,\n",
       "            presort=False, random_state=None, splitter='best'))])"
      ]
     },
     "execution_count": 18,
     "metadata": {},
     "output_type": "execute_result"
    }
   ],
   "source": [
    "dt2_clf.fit(X_Summary_train,y_train ) "
   ]
  },
  {
   "cell_type": "code",
   "execution_count": 19,
   "metadata": {},
   "outputs": [
    {
     "name": "stdout",
     "output_type": "stream",
     "text": [
      "[[ 9  0  0  1  0  0  0  0  0]\n",
      " [ 1  2  0  0  0  0  0  0  0]\n",
      " [ 0  0  1  0  0  0  0  0  0]\n",
      " [ 1  0  0  0  0  0  0  0  0]\n",
      " [ 0  0  0  0  0  0  0  0  0]\n",
      " [ 2  0  1  0  0 10  0  3  1]\n",
      " [ 0  0  0  1  0  0  0  0  0]\n",
      " [ 4  0  0  0  0  0  0  2  2]\n",
      " [ 6  0  0  0  1  2  0  0  3]]\n",
      "0.509433962264\n"
     ]
    }
   ],
   "source": [
    "predicted = dt2_clf.predict(X_Summary_test)\n",
    " \n",
    "print(metrics.confusion_matrix(y_test, predicted))\n",
    "print(np.mean(predicted == y_test) )"
   ]
  },
  {
   "cell_type": "code",
   "execution_count": 20,
   "metadata": {},
   "outputs": [
    {
     "name": "stdout",
     "output_type": "stream",
     "text": [
      "                                 precision    recall  f1-score   support\n",
      "\n",
      "      Caught in/between Objects       0.39      0.90      0.55        10\n",
      "             Collapse of object       1.00      0.67      0.80         3\n",
      "                       Drowning       0.50      1.00      0.67         1\n",
      "                  Electrocution       0.00      0.00      0.00         1\n",
      "Exposure to Chemical Substances       0.00      0.00      0.00         0\n",
      "                          Falls       0.83      0.59      0.69        17\n",
      "            Fires and Explosion       0.00      0.00      0.00         1\n",
      "                          Other       0.40      0.25      0.31         8\n",
      "       Struck By Moving Objects       0.50      0.25      0.33        12\n",
      "\n",
      "                    avg / total       0.58      0.51      0.50        53\n",
      "\n"
     ]
    },
    {
     "name": "stderr",
     "output_type": "stream",
     "text": [
      "C:\\Users\\vleung\\Anaconda3\\lib\\site-packages\\sklearn\\metrics\\classification.py:1113: UndefinedMetricWarning: Precision and F-score are ill-defined and being set to 0.0 in labels with no predicted samples.\n",
      "  'precision', 'predicted', average, warn_for)\n",
      "C:\\Users\\vleung\\Anaconda3\\lib\\site-packages\\sklearn\\metrics\\classification.py:1115: UndefinedMetricWarning: Recall and F-score are ill-defined and being set to 0.0 in labels with no true samples.\n",
      "  'recall', 'true', average, warn_for)\n"
     ]
    }
   ],
   "source": [
    "print(metrics.classification_report(y_test, predicted))"
   ]
  },
  {
   "cell_type": "markdown",
   "metadata": {},
   "source": [
    "## SVM\n",
    "\n",
    "* sv1_clf - classifier based on Title text\n",
    "* sv2_clf - classifier based on Summary text"
   ]
  },
  {
   "cell_type": "code",
   "execution_count": 21,
   "metadata": {
    "collapsed": true
   },
   "outputs": [],
   "source": [
    "sv1_clf = Pipeline([('vect', CountVectorizer(analyzer=text_process)),\n",
    "                     ('tfidf', TfidfTransformer(use_idf=True)),\n",
    "                      ('clf', SGDClassifier(\n",
    "                                            alpha=1e-3 \n",
    "                                             ))\n",
    "                    ])\n",
    "\n",
    "sv2_clf = Pipeline([('vect', CountVectorizer(analyzer=text_process)),\n",
    "                     ('tfidf', TfidfTransformer(use_idf=True)),\n",
    "                      ('clf', SGDClassifier(\n",
    "                                            alpha=1e-3 \n",
    "                                             ))\n",
    "                    ])"
   ]
  },
  {
   "cell_type": "code",
   "execution_count": 22,
   "metadata": {},
   "outputs": [
    {
     "data": {
      "text/plain": [
       "Pipeline(steps=[('vect', CountVectorizer(analyzer=<function text_process at 0x000000000CC07158>,\n",
       "        binary=False, decode_error='strict', dtype=<class 'numpy.int64'>,\n",
       "        encoding='utf-8', input='content', lowercase=True, max_df=1.0,\n",
       "        max_features=None, min_df=1, ngram_range=(1, 1), preprocess...   penalty='l2', power_t=0.5, random_state=None, shuffle=True,\n",
       "       verbose=0, warm_start=False))])"
      ]
     },
     "execution_count": 22,
     "metadata": {},
     "output_type": "execute_result"
    }
   ],
   "source": [
    "sv1_clf.fit(X_Title_train,y_train ) "
   ]
  },
  {
   "cell_type": "code",
   "execution_count": 23,
   "metadata": {},
   "outputs": [
    {
     "name": "stdout",
     "output_type": "stream",
     "text": [
      "[[ 9  0  0  0  1  0  0  0]\n",
      " [ 0  2  0  0  0  0  1  0]\n",
      " [ 0  0  1  0  0  0  0  0]\n",
      " [ 1  0  0  0  0  0  0  0]\n",
      " [ 1  0  0  0 16  0  0  0]\n",
      " [ 0  0  0  1  0  0  0  0]\n",
      " [ 1  0  0  3  1  0  1  2]\n",
      " [ 2  0  0  0  0  0  0 10]]\n",
      "0.735849056604\n"
     ]
    }
   ],
   "source": [
    "predicted = sv1_clf.predict(X_Title_test)\n",
    " \n",
    "print(metrics.confusion_matrix(y_test, predicted))\n",
    "print(np.mean(predicted == y_test) )"
   ]
  },
  {
   "cell_type": "code",
   "execution_count": 24,
   "metadata": {},
   "outputs": [
    {
     "name": "stdout",
     "output_type": "stream",
     "text": [
      "                           precision    recall  f1-score   support\n",
      "\n",
      "Caught in/between Objects       0.64      0.90      0.75        10\n",
      "       Collapse of object       1.00      0.67      0.80         3\n",
      "                 Drowning       1.00      1.00      1.00         1\n",
      "            Electrocution       0.00      0.00      0.00         1\n",
      "                    Falls       0.89      0.94      0.91        17\n",
      "      Fires and Explosion       0.00      0.00      0.00         1\n",
      "                    Other       0.50      0.12      0.20         8\n",
      " Struck By Moving Objects       0.83      0.83      0.83        12\n",
      "\n",
      "              avg / total       0.75      0.74      0.72        53\n",
      "\n"
     ]
    },
    {
     "name": "stderr",
     "output_type": "stream",
     "text": [
      "C:\\Users\\vleung\\Anaconda3\\lib\\site-packages\\sklearn\\metrics\\classification.py:1113: UndefinedMetricWarning: Precision and F-score are ill-defined and being set to 0.0 in labels with no predicted samples.\n",
      "  'precision', 'predicted', average, warn_for)\n"
     ]
    }
   ],
   "source": [
    "print(metrics.classification_report(y_test, predicted))"
   ]
  },
  {
   "cell_type": "code",
   "execution_count": 25,
   "metadata": {},
   "outputs": [
    {
     "data": {
      "text/plain": [
       "Pipeline(steps=[('vect', CountVectorizer(analyzer=<function text_process at 0x000000000CC07158>,\n",
       "        binary=False, decode_error='strict', dtype=<class 'numpy.int64'>,\n",
       "        encoding='utf-8', input='content', lowercase=True, max_df=1.0,\n",
       "        max_features=None, min_df=1, ngram_range=(1, 1), preprocess...   penalty='l2', power_t=0.5, random_state=None, shuffle=True,\n",
       "       verbose=0, warm_start=False))])"
      ]
     },
     "execution_count": 25,
     "metadata": {},
     "output_type": "execute_result"
    }
   ],
   "source": [
    "sv2_clf.fit(X_Summary_train,y_train ) "
   ]
  },
  {
   "cell_type": "code",
   "execution_count": 26,
   "metadata": {},
   "outputs": [
    {
     "name": "stdout",
     "output_type": "stream",
     "text": [
      "[[ 9  0  0  0  0  0  1  0]\n",
      " [ 0  2  0  0  0  0  1  0]\n",
      " [ 0  0  1  0  0  0  0  0]\n",
      " [ 0  0  0  0  0  0  0  1]\n",
      " [ 0  0  1  0 15  0  0  1]\n",
      " [ 1  0  0  0  0  0  0  0]\n",
      " [ 2  0  0  5  1  0  0  0]\n",
      " [ 3  0  3  0  0  0  0  6]]\n",
      "0.622641509434\n"
     ]
    }
   ],
   "source": [
    "predicted = sv2_clf.predict(X_Title_test)\n",
    " \n",
    "print(metrics.confusion_matrix(y_test, predicted))\n",
    "print(np.mean(predicted == y_test) )"
   ]
  },
  {
   "cell_type": "code",
   "execution_count": 27,
   "metadata": {},
   "outputs": [
    {
     "name": "stdout",
     "output_type": "stream",
     "text": [
      "                           precision    recall  f1-score   support\n",
      "\n",
      "Caught in/between Objects       0.60      0.90      0.72        10\n",
      "       Collapse of object       1.00      0.67      0.80         3\n",
      "                 Drowning       0.20      1.00      0.33         1\n",
      "            Electrocution       0.00      0.00      0.00         1\n",
      "                    Falls       0.94      0.88      0.91        17\n",
      "      Fires and Explosion       0.00      0.00      0.00         1\n",
      "                    Other       0.00      0.00      0.00         8\n",
      " Struck By Moving Objects       0.75      0.50      0.60        12\n",
      "\n",
      "              avg / total       0.64      0.62      0.61        53\n",
      "\n"
     ]
    },
    {
     "name": "stderr",
     "output_type": "stream",
     "text": [
      "C:\\Users\\vleung\\Anaconda3\\lib\\site-packages\\sklearn\\metrics\\classification.py:1113: UndefinedMetricWarning: Precision and F-score are ill-defined and being set to 0.0 in labels with no predicted samples.\n",
      "  'precision', 'predicted', average, warn_for)\n"
     ]
    }
   ],
   "source": [
    "print(metrics.classification_report(y_test, predicted))"
   ]
  },
  {
   "cell_type": "markdown",
   "metadata": {
    "collapsed": true
   },
   "source": [
    "## Label osha data\n",
    "\n",
    "Use SVM model with Summary data"
   ]
  },
  {
   "cell_type": "code",
   "execution_count": 28,
   "metadata": {
    "collapsed": true
   },
   "outputs": [],
   "source": [
    "osha['Cause'] = sv2_clf.predict(osha.Summary).tolist()"
   ]
  },
  {
   "cell_type": "code",
   "execution_count": 29,
   "metadata": {},
   "outputs": [
    {
     "data": {
      "text/html": [
       "<div>\n",
       "<style>\n",
       "    .dataframe thead tr:only-child th {\n",
       "        text-align: right;\n",
       "    }\n",
       "\n",
       "    .dataframe thead th {\n",
       "        text-align: left;\n",
       "    }\n",
       "\n",
       "    .dataframe tbody tr th {\n",
       "        vertical-align: top;\n",
       "    }\n",
       "</style>\n",
       "<table border=\"1\" class=\"dataframe\">\n",
       "  <thead>\n",
       "    <tr style=\"text-align: right;\">\n",
       "      <th></th>\n",
       "      <th>Cause</th>\n",
       "      <th>Summary</th>\n",
       "    </tr>\n",
       "  </thead>\n",
       "  <tbody>\n",
       "    <tr>\n",
       "      <th>0</th>\n",
       "      <td>Caught in/between Objects</td>\n",
       "      <td>truck  flatbed truck  trailer  fall  abdomen</td>\n",
       "    </tr>\n",
       "    <tr>\n",
       "      <th>1</th>\n",
       "      <td>Struck By Moving Objects</td>\n",
       "      <td>construction  undrgrd power line  highway ...</td>\n",
       "    </tr>\n",
       "    <tr>\n",
       "      <th>2</th>\n",
       "      <td>Caught in/between Objects</td>\n",
       "      <td>waste proc fac  industrial truck  struck b...</td>\n",
       "    </tr>\n",
       "    <tr>\n",
       "      <th>3</th>\n",
       "      <td>Struck By Moving Objects</td>\n",
       "      <td>truck driver  pump  tank  hot water  struc...</td>\n",
       "    </tr>\n",
       "    <tr>\n",
       "      <th>4</th>\n",
       "      <td>Exposure to extreme temperatures</td>\n",
       "      <td>burn  spill  arm  chest  abdomen</td>\n",
       "    </tr>\n",
       "  </tbody>\n",
       "</table>\n",
       "</div>"
      ],
      "text/plain": [
       "                              Cause  \\\n",
       "0         Caught in/between Objects   \n",
       "1          Struck By Moving Objects   \n",
       "2         Caught in/between Objects   \n",
       "3          Struck By Moving Objects   \n",
       "4  Exposure to extreme temperatures   \n",
       "\n",
       "                                             Summary  \n",
       "0      truck  flatbed truck  trailer  fall  abdomen   \n",
       "1      construction  undrgrd power line  highway ...  \n",
       "2      waste proc fac  industrial truck  struck b...  \n",
       "3      truck driver  pump  tank  hot water  struc...  \n",
       "4                  burn  spill  arm  chest  abdomen   "
      ]
     },
     "execution_count": 29,
     "metadata": {},
     "output_type": "execute_result"
    }
   ],
   "source": [
    "osha[['Cause','Summary']].head()"
   ]
  },
  {
   "cell_type": "code",
   "execution_count": null,
   "metadata": {
    "collapsed": true
   },
   "outputs": [],
   "source": []
  }
 ],
 "metadata": {
  "kernelspec": {
   "display_name": "Python 3",
   "language": "python",
   "name": "python3"
  },
  "language_info": {
   "codemirror_mode": {
    "name": "ipython",
    "version": 3
   },
   "file_extension": ".py",
   "mimetype": "text/x-python",
   "name": "python",
   "nbconvert_exporter": "python",
   "pygments_lexer": "ipython3",
   "version": "3.6.1"
  }
 },
 "nbformat": 4,
 "nbformat_minor": 2
}
