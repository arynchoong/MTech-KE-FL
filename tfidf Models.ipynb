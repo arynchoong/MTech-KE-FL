{
 "cells": [
  {
   "cell_type": "markdown",
   "metadata": {},
   "source": [
    "### Build classifer to label causes for OSHA data\n",
    "\n",
    "* Use Malaysia pre-labelled data to build a classifier to label OSHA.xls data\n",
    "* Test three types of classifiers (Naive Bayes, Decision Tree, SVM)"
   ]
  },
  {
   "cell_type": "code",
   "execution_count": 1,
   "metadata": {
    "collapsed": true
   },
   "outputs": [],
   "source": [
    "# import dependencies\n",
    "\n",
    "import matplotlib.pyplot as plt\n",
    "import pandas as pd\n",
    "import numpy as np\n",
    "from sklearn.feature_extraction.text import CountVectorizer\n",
    "from sklearn.feature_extraction.text import TfidfTransformer\n",
    "from sklearn import metrics \n",
    "from sklearn.pipeline import Pipeline\n",
    "from sklearn.naive_bayes import MultinomialNB\n",
    "from sklearn.linear_model import SGDClassifier\n",
    "from sklearn import tree\n",
    "\n",
    "import string\n",
    "\n",
    "import nltk\n",
    "from nltk.stem.snowball import SnowballStemmer\n",
    "from nltk import word_tokenize          \n",
    "from nltk.stem import WordNetLemmatizer \n",
    "%matplotlib inline"
   ]
  },
  {
   "cell_type": "code",
   "execution_count": 50,
   "metadata": {},
   "outputs": [],
   "source": [
    "osha=pd.read_excel('./Text Mining/data/raw/osha.xlsx', header=None, index_col=0, names = [\"Title\", \"Description\",\"Summary\", \"Classification\"])"
   ]
  },
  {
   "cell_type": "code",
   "execution_count": 51,
   "metadata": {},
   "outputs": [
    {
     "data": {
      "text/html": [
       "<div>\n",
       "<style>\n",
       "    .dataframe thead tr:only-child th {\n",
       "        text-align: right;\n",
       "    }\n",
       "\n",
       "    .dataframe thead th {\n",
       "        text-align: left;\n",
       "    }\n",
       "\n",
       "    .dataframe tbody tr th {\n",
       "        vertical-align: top;\n",
       "    }\n",
       "</style>\n",
       "<table border=\"1\" class=\"dataframe\">\n",
       "  <thead>\n",
       "    <tr style=\"text-align: right;\">\n",
       "      <th></th>\n",
       "      <th>Title</th>\n",
       "      <th>Description</th>\n",
       "      <th>Summary</th>\n",
       "      <th>Classification</th>\n",
       "    </tr>\n",
       "    <tr>\n",
       "      <th>0</th>\n",
       "      <th></th>\n",
       "      <th></th>\n",
       "      <th></th>\n",
       "      <th></th>\n",
       "    </tr>\n",
       "  </thead>\n",
       "  <tbody>\n",
       "    <tr>\n",
       "      <th>201079928</th>\n",
       "      <td>Employee Is Burned By Forklift Radiator Fluid</td>\n",
       "      <td>At approximately 11:30 a.m. on November 13  2...</td>\n",
       "      <td>burn  industrial truck  waste proc fac  pa...</td>\n",
       "      <td></td>\n",
       "    </tr>\n",
       "    <tr>\n",
       "      <th>202561825</th>\n",
       "      <td>Employee Falls From Flatbed Trailer And Later...</td>\n",
       "      <td>On August 30  2013  Employee #1 was working f...</td>\n",
       "      <td>truck  flatbed truck  trailer  fall  abdomen</td>\n",
       "      <td></td>\n",
       "    </tr>\n",
       "    <tr>\n",
       "      <th>200361855</th>\n",
       "      <td>Two Workers Are Struck By Motor Vehicle And O...</td>\n",
       "      <td>On August 27  2013  Employees #1 and #2  of T...</td>\n",
       "      <td>construction  undrgrd power line  highway ...</td>\n",
       "      <td>1 317290559   Fatality Other Occupation not re...</td>\n",
       "    </tr>\n",
       "    <tr>\n",
       "      <th>200361863</th>\n",
       "      <td>Employee Is Struck By Bales Of Wire And Killed</td>\n",
       "      <td>On August 26  2013  Employee #1  with Lee Iro...</td>\n",
       "      <td>waste proc fac  industrial truck  struck b...</td>\n",
       "      <td></td>\n",
       "    </tr>\n",
       "    <tr>\n",
       "      <th>201079324</th>\n",
       "      <td>Employee Is Splashed With Hot Water And Is Bu...</td>\n",
       "      <td>On July 14  2013  Employee #1  vacuum pump tr...</td>\n",
       "      <td>truck driver  pump  tank  hot water  struc...</td>\n",
       "      <td></td>\n",
       "    </tr>\n",
       "  </tbody>\n",
       "</table>\n",
       "</div>"
      ],
      "text/plain": [
       "                                                       Title  \\\n",
       "0                                                              \n",
       "201079928     Employee Is Burned By Forklift Radiator Fluid    \n",
       "202561825   Employee Falls From Flatbed Trailer And Later...   \n",
       "200361855   Two Workers Are Struck By Motor Vehicle And O...   \n",
       "200361863    Employee Is Struck By Bales Of Wire And Killed    \n",
       "201079324   Employee Is Splashed With Hot Water And Is Bu...   \n",
       "\n",
       "                                                 Description  \\\n",
       "0                                                              \n",
       "201079928   At approximately 11:30 a.m. on November 13  2...   \n",
       "202561825   On August 30  2013  Employee #1 was working f...   \n",
       "200361855   On August 27  2013  Employees #1 and #2  of T...   \n",
       "200361863   On August 26  2013  Employee #1  with Lee Iro...   \n",
       "201079324   On July 14  2013  Employee #1  vacuum pump tr...   \n",
       "\n",
       "                                                     Summary  \\\n",
       "0                                                              \n",
       "201079928      burn  industrial truck  waste proc fac  pa...   \n",
       "202561825      truck  flatbed truck  trailer  fall  abdomen    \n",
       "200361855      construction  undrgrd power line  highway ...   \n",
       "200361863      waste proc fac  industrial truck  struck b...   \n",
       "201079324      truck driver  pump  tank  hot water  struc...   \n",
       "\n",
       "                                              Classification  \n",
       "0                                                             \n",
       "201079928                                                     \n",
       "202561825                                                     \n",
       "200361855  1 317290559   Fatality Other Occupation not re...  \n",
       "200361863                                                     \n",
       "201079324                                                     "
      ]
     },
     "execution_count": 51,
     "metadata": {},
     "output_type": "execute_result"
    }
   ],
   "source": [
    "osha.head()"
   ]
  },
  {
   "cell_type": "code",
   "execution_count": 4,
   "metadata": {
    "collapsed": true
   },
   "outputs": [],
   "source": [
    "# Read in labelled Malaysia Data\n",
    "report_train=pd.read_excel('MsiaAccidentCasesTrain.xlsx',names = [\"Cause\", \"Title\", \"Summary\"])\n",
    "report_test=pd.read_excel('MsiaAccidentCasesTest.xlsx',names = [\"Cause\", \"Title\", \"Summary\"])"
   ]
  },
  {
   "cell_type": "code",
   "execution_count": 5,
   "metadata": {},
   "outputs": [
    {
     "data": {
      "text/html": [
       "<div>\n",
       "<style>\n",
       "    .dataframe thead tr:only-child th {\n",
       "        text-align: right;\n",
       "    }\n",
       "\n",
       "    .dataframe thead th {\n",
       "        text-align: left;\n",
       "    }\n",
       "\n",
       "    .dataframe tbody tr th {\n",
       "        vertical-align: top;\n",
       "    }\n",
       "</style>\n",
       "<table border=\"1\" class=\"dataframe\">\n",
       "  <thead>\n",
       "    <tr>\n",
       "      <th></th>\n",
       "      <th colspan=\"4\" halign=\"left\">Summary</th>\n",
       "      <th colspan=\"4\" halign=\"left\">Title</th>\n",
       "    </tr>\n",
       "    <tr>\n",
       "      <th></th>\n",
       "      <th>count</th>\n",
       "      <th>unique</th>\n",
       "      <th>top</th>\n",
       "      <th>freq</th>\n",
       "      <th>count</th>\n",
       "      <th>unique</th>\n",
       "      <th>top</th>\n",
       "      <th>freq</th>\n",
       "    </tr>\n",
       "    <tr>\n",
       "      <th>Cause</th>\n",
       "      <th></th>\n",
       "      <th></th>\n",
       "      <th></th>\n",
       "      <th></th>\n",
       "      <th></th>\n",
       "      <th></th>\n",
       "      <th></th>\n",
       "      <th></th>\n",
       "    </tr>\n",
       "  </thead>\n",
       "  <tbody>\n",
       "    <tr>\n",
       "      <th>Caught in/between Objects</th>\n",
       "      <td>36</td>\n",
       "      <td>36</td>\n",
       "      <td>The victim was died being crushed by tractor o...</td>\n",
       "      <td>1</td>\n",
       "      <td>36</td>\n",
       "      <td>34</td>\n",
       "      <td>Died crushed by object</td>\n",
       "      <td>2</td>\n",
       "    </tr>\n",
       "    <tr>\n",
       "      <th>Collapse of object</th>\n",
       "      <td>5</td>\n",
       "      <td>5</td>\n",
       "      <td>The incident took place during the removal of ...</td>\n",
       "      <td>1</td>\n",
       "      <td>5</td>\n",
       "      <td>5</td>\n",
       "      <td>Died crushed by collapsing wall</td>\n",
       "      <td>1</td>\n",
       "    </tr>\n",
       "    <tr>\n",
       "      <th>Drowning</th>\n",
       "      <td>8</td>\n",
       "      <td>8</td>\n",
       "      <td>The vehicle skidded and fell into the sea whil...</td>\n",
       "      <td>1</td>\n",
       "      <td>8</td>\n",
       "      <td>3</td>\n",
       "      <td>Died due to drowning</td>\n",
       "      <td>6</td>\n",
       "    </tr>\n",
       "    <tr>\n",
       "      <th>Electrocution</th>\n",
       "      <td>17</td>\n",
       "      <td>17</td>\n",
       "      <td>The victim was died due to electrocution. He i...</td>\n",
       "      <td>1</td>\n",
       "      <td>17</td>\n",
       "      <td>8</td>\n",
       "      <td>Died due to electrocution</td>\n",
       "      <td>4</td>\n",
       "    </tr>\n",
       "    <tr>\n",
       "      <th>Exposure to Chemical Substances</th>\n",
       "      <td>2</td>\n",
       "      <td>2</td>\n",
       "      <td>Victim was found unconscious after got out of ...</td>\n",
       "      <td>1</td>\n",
       "      <td>2</td>\n",
       "      <td>2</td>\n",
       "      <td>Died by insecticide poisoning</td>\n",
       "      <td>1</td>\n",
       "    </tr>\n",
       "    <tr>\n",
       "      <th>Exposure to extreme temperatures</th>\n",
       "      <td>2</td>\n",
       "      <td>2</td>\n",
       "      <td>The victim suffered 3rd degree burns from spla...</td>\n",
       "      <td>1</td>\n",
       "      <td>2</td>\n",
       "      <td>2</td>\n",
       "      <td>Died due to contact with hot water</td>\n",
       "      <td>1</td>\n",
       "    </tr>\n",
       "    <tr>\n",
       "      <th>Falls</th>\n",
       "      <td>56</td>\n",
       "      <td>56</td>\n",
       "      <td>A pile of iron rod tube that has being lifted ...</td>\n",
       "      <td>1</td>\n",
       "      <td>56</td>\n",
       "      <td>22</td>\n",
       "      <td>Died falling from height</td>\n",
       "      <td>32</td>\n",
       "    </tr>\n",
       "    <tr>\n",
       "      <th>Fires and Explosion</th>\n",
       "      <td>4</td>\n",
       "      <td>4</td>\n",
       "      <td>Three workers were died due to coal explosion</td>\n",
       "      <td>1</td>\n",
       "      <td>4</td>\n",
       "      <td>4</td>\n",
       "      <td>Died due to explosion of boiler</td>\n",
       "      <td>1</td>\n",
       "    </tr>\n",
       "    <tr>\n",
       "      <th>Other</th>\n",
       "      <td>10</td>\n",
       "      <td>10</td>\n",
       "      <td>The victim was thrown away from a tractor's se...</td>\n",
       "      <td>1</td>\n",
       "      <td>10</td>\n",
       "      <td>9</td>\n",
       "      <td>Died being buried</td>\n",
       "      <td>2</td>\n",
       "    </tr>\n",
       "    <tr>\n",
       "      <th>Struck By Moving Objects</th>\n",
       "      <td>39</td>\n",
       "      <td>39</td>\n",
       "      <td>During the incident, the victim, a constructio...</td>\n",
       "      <td>1</td>\n",
       "      <td>39</td>\n",
       "      <td>38</td>\n",
       "      <td>Fatal accident involving Express Bus</td>\n",
       "      <td>2</td>\n",
       "    </tr>\n",
       "    <tr>\n",
       "      <th>Suffocation</th>\n",
       "      <td>3</td>\n",
       "      <td>3</td>\n",
       "      <td>2 victims died after inhaling toxic gas while ...</td>\n",
       "      <td>1</td>\n",
       "      <td>3</td>\n",
       "      <td>3</td>\n",
       "      <td>Death by suffocation</td>\n",
       "      <td>1</td>\n",
       "    </tr>\n",
       "  </tbody>\n",
       "</table>\n",
       "</div>"
      ],
      "text/plain": [
       "                                 Summary         \\\n",
       "                                   count unique   \n",
       "Cause                                             \n",
       "Caught in/between Objects             36     36   \n",
       "Collapse of object                     5      5   \n",
       "Drowning                               8      8   \n",
       "Electrocution                         17     17   \n",
       "Exposure to Chemical Substances        2      2   \n",
       "Exposure to extreme temperatures       2      2   \n",
       "Falls                                 56     56   \n",
       "Fires and Explosion                    4      4   \n",
       "Other                                 10     10   \n",
       "Struck By Moving Objects              39     39   \n",
       "Suffocation                            3      3   \n",
       "\n",
       "                                                                                     \\\n",
       "                                                                                top   \n",
       "Cause                                                                                 \n",
       "Caught in/between Objects         The victim was died being crushed by tractor o...   \n",
       "Collapse of object                The incident took place during the removal of ...   \n",
       "Drowning                          The vehicle skidded and fell into the sea whil...   \n",
       "Electrocution                     The victim was died due to electrocution. He i...   \n",
       "Exposure to Chemical Substances   Victim was found unconscious after got out of ...   \n",
       "Exposure to extreme temperatures  The victim suffered 3rd degree burns from spla...   \n",
       "Falls                             A pile of iron rod tube that has being lifted ...   \n",
       "Fires and Explosion                   Three workers were died due to coal explosion   \n",
       "Other                             The victim was thrown away from a tractor's se...   \n",
       "Struck By Moving Objects          During the incident, the victim, a constructio...   \n",
       "Suffocation                       2 victims died after inhaling toxic gas while ...   \n",
       "\n",
       "                                      Title         \\\n",
       "                                 freq count unique   \n",
       "Cause                                                \n",
       "Caught in/between Objects           1    36     34   \n",
       "Collapse of object                  1     5      5   \n",
       "Drowning                            1     8      3   \n",
       "Electrocution                       1    17      8   \n",
       "Exposure to Chemical Substances     1     2      2   \n",
       "Exposure to extreme temperatures    1     2      2   \n",
       "Falls                               1    56     22   \n",
       "Fires and Explosion                 1     4      4   \n",
       "Other                               1    10      9   \n",
       "Struck By Moving Objects            1    39     38   \n",
       "Suffocation                         1     3      3   \n",
       "\n",
       "                                                                             \n",
       "                                                                   top freq  \n",
       "Cause                                                                        \n",
       "Caught in/between Objects                       Died crushed by object    2  \n",
       "Collapse of object                     Died crushed by collapsing wall    1  \n",
       "Drowning                                          Died due to drowning    6  \n",
       "Electrocution                                Died due to electrocution    4  \n",
       "Exposure to Chemical Substances          Died by insecticide poisoning    1  \n",
       "Exposure to extreme temperatures    Died due to contact with hot water    1  \n",
       "Falls                                         Died falling from height   32  \n",
       "Fires and Explosion                    Died due to explosion of boiler    1  \n",
       "Other                                                Died being buried    2  \n",
       "Struck By Moving Objects          Fatal accident involving Express Bus    2  \n",
       "Suffocation                                       Death by suffocation    1  "
      ]
     },
     "execution_count": 5,
     "metadata": {},
     "output_type": "execute_result"
    }
   ],
   "source": [
    "report_train.groupby('Cause').describe()"
   ]
  },
  {
   "cell_type": "code",
   "execution_count": 6,
   "metadata": {
    "collapsed": true
   },
   "outputs": [],
   "source": [
    "# Prepare two sets of training and test data\n",
    "# One set based on the Summary column, One set bsed on the Title column\n",
    "\n",
    "X_Summary_train = report_train['Summary']\n",
    "X_Title_train = report_train['Title']\n",
    "y_train = report_train['Cause']\n",
    "\n",
    "X_Summary_test = report_test['Summary']\n",
    "X_Title_test = report_test['Title']\n",
    "y_test = report_test['Cause']"
   ]
  },
  {
   "cell_type": "code",
   "execution_count": 7,
   "metadata": {
    "collapsed": true
   },
   "outputs": [],
   "source": [
    "# Function to preprocess text\n",
    "# - remove stop words\n",
    "# - lemmanize\n",
    "# - remove punctuation\n",
    "# - remove numbers\n",
    "# - convert to lower case\n",
    "# - remove tokens which are less than 4 characters\n",
    "\n",
    "def text_process(mess):\n",
    "    stop = nltk.corpus.stopwords.words('english')\n",
    "    wnl = nltk.WordNetLemmatizer()\n",
    "    snowball = nltk.SnowballStemmer('english')\n",
    "    \n",
    "    tokens = word_tokenize(mess.replace(\"'\", \"\"))\n",
    "    tokens_nop = [ t for t in tokens if t not in string.punctuation ]\n",
    "    tokens_char = [x for x in tokens_nop if not any(c.isdigit() for c in x)]\n",
    "    tokens_lower = [ t.lower() for t in tokens_char ]\n",
    "    tokens_nostop=[ t for t in tokens_lower if t not in stop ]\n",
    "    tokens_lem = [ wnl.lemmatize(t) for t in tokens_nostop ]\n",
    "    tokens_snow = [ snowball.stem(t) for t in tokens_lem ]\n",
    "    tokens_clean = [ t for t in tokens_snow if len(t) >= 3 ]\n",
    "    \n",
    "    return tokens_clean"
   ]
  },
  {
   "cell_type": "markdown",
   "metadata": {},
   "source": [
    "## Naive Bayes\n",
    "\n",
    "* nb1_clf - classifier based on Title text\n",
    "* nb2_clf - classifier based on Summary text"
   ]
  },
  {
   "cell_type": "code",
   "execution_count": 8,
   "metadata": {
    "collapsed": true
   },
   "outputs": [],
   "source": [
    "nb1_clf = Pipeline([('vect', CountVectorizer(analyzer=text_process)),  \n",
    "                     ('tfidf', TfidfTransformer()),\n",
    "                      ('clf', MultinomialNB()),\n",
    "                    ])\n",
    "nb2_clf = Pipeline([('vect', CountVectorizer(analyzer=text_process)),  \n",
    "                     ('tfidf', TfidfTransformer()),\n",
    "                      ('clf', MultinomialNB()),\n",
    "                    ])"
   ]
  },
  {
   "cell_type": "code",
   "execution_count": 9,
   "metadata": {},
   "outputs": [
    {
     "data": {
      "text/plain": [
       "Pipeline(steps=[('vect', CountVectorizer(analyzer=<function text_process at 0x11df2a510>, binary=False,\n",
       "        decode_error='strict', dtype=<class 'numpy.int64'>,\n",
       "        encoding='utf-8', input='content', lowercase=True, max_df=1.0,\n",
       "        max_features=None, min_df=1, ngram_range=(1, 1), preprocessor=None...inear_tf=False, use_idf=True)), ('clf', MultinomialNB(alpha=1.0, class_prior=None, fit_prior=True))])"
      ]
     },
     "execution_count": 9,
     "metadata": {},
     "output_type": "execute_result"
    }
   ],
   "source": [
    "nb1_clf.fit(X_Title_train,y_train ) "
   ]
  },
  {
   "cell_type": "code",
   "execution_count": 10,
   "metadata": {},
   "outputs": [
    {
     "name": "stdout",
     "output_type": "stream",
     "text": [
      "[[ 9  0  0  0  1  0  0  0]\n",
      " [ 0  0  0  0  2  0  1  0]\n",
      " [ 0  0  1  0  0  0  0  0]\n",
      " [ 0  0  0  0  1  0  0  0]\n",
      " [ 0  0  0  0 17  0  0  0]\n",
      " [ 0  0  0  1  0  0  0  0]\n",
      " [ 0  0  0  3  2  0  0  3]\n",
      " [ 2  0  0  0  0  0  0 10]]\n",
      "0.698113207547\n"
     ]
    }
   ],
   "source": [
    "predicted = nb1_clf.predict(X_Title_test)\n",
    " \n",
    "print(metrics.confusion_matrix(y_test, predicted))\n",
    "print(np.mean(predicted == y_test) )"
   ]
  },
  {
   "cell_type": "code",
   "execution_count": 11,
   "metadata": {},
   "outputs": [
    {
     "name": "stdout",
     "output_type": "stream",
     "text": [
      "                           precision    recall  f1-score   support\n",
      "\n",
      "Caught in/between Objects       0.82      0.90      0.86        10\n",
      "       Collapse of object       0.00      0.00      0.00         3\n",
      "                 Drowning       1.00      1.00      1.00         1\n",
      "            Electrocution       0.00      0.00      0.00         1\n",
      "                    Falls       0.74      1.00      0.85        17\n",
      "      Fires and Explosion       0.00      0.00      0.00         1\n",
      "                    Other       0.00      0.00      0.00         8\n",
      " Struck By Moving Objects       0.77      0.83      0.80        12\n",
      "\n",
      "              avg / total       0.58      0.70      0.63        53\n",
      "\n"
     ]
    },
    {
     "name": "stderr",
     "output_type": "stream",
     "text": [
      "/anaconda/lib/python3.6/site-packages/sklearn/metrics/classification.py:1113: UndefinedMetricWarning: Precision and F-score are ill-defined and being set to 0.0 in labels with no predicted samples.\n",
      "  'precision', 'predicted', average, warn_for)\n"
     ]
    }
   ],
   "source": [
    "print(metrics.classification_report(y_test, predicted))"
   ]
  },
  {
   "cell_type": "code",
   "execution_count": 12,
   "metadata": {},
   "outputs": [
    {
     "data": {
      "text/plain": [
       "Pipeline(steps=[('vect', CountVectorizer(analyzer=<function text_process at 0x11df2a510>, binary=False,\n",
       "        decode_error='strict', dtype=<class 'numpy.int64'>,\n",
       "        encoding='utf-8', input='content', lowercase=True, max_df=1.0,\n",
       "        max_features=None, min_df=1, ngram_range=(1, 1), preprocessor=None...inear_tf=False, use_idf=True)), ('clf', MultinomialNB(alpha=1.0, class_prior=None, fit_prior=True))])"
      ]
     },
     "execution_count": 12,
     "metadata": {},
     "output_type": "execute_result"
    }
   ],
   "source": [
    "nb2_clf.fit(X_Summary_train,y_train ) "
   ]
  },
  {
   "cell_type": "code",
   "execution_count": 13,
   "metadata": {},
   "outputs": [
    {
     "name": "stdout",
     "output_type": "stream",
     "text": [
      "[[ 1  0  0  0  8  0  0  1]\n",
      " [ 0  0  0  0  3  0  0  0]\n",
      " [ 0  0  0  0  1  0  0  0]\n",
      " [ 0  0  0  0  1  0  0  0]\n",
      " [ 0  0  0  0 16  0  0  1]\n",
      " [ 0  0  0  0  1  0  0  0]\n",
      " [ 0  0  0  0  7  0  0  1]\n",
      " [ 1  0  0  0  8  0  0  3]]\n",
      "0.377358490566\n"
     ]
    }
   ],
   "source": [
    "predicted = nb2_clf.predict(X_Summary_test)\n",
    " \n",
    "print(metrics.confusion_matrix(y_test, predicted))\n",
    "print(np.mean(predicted == y_test) )"
   ]
  },
  {
   "cell_type": "code",
   "execution_count": 14,
   "metadata": {},
   "outputs": [
    {
     "name": "stdout",
     "output_type": "stream",
     "text": [
      "                           precision    recall  f1-score   support\n",
      "\n",
      "Caught in/between Objects       0.50      0.10      0.17        10\n",
      "       Collapse of object       0.00      0.00      0.00         3\n",
      "                 Drowning       0.00      0.00      0.00         1\n",
      "            Electrocution       0.00      0.00      0.00         1\n",
      "                    Falls       0.36      0.94      0.52        17\n",
      "      Fires and Explosion       0.00      0.00      0.00         1\n",
      "                    Other       0.00      0.00      0.00         8\n",
      " Struck By Moving Objects       0.50      0.25      0.33        12\n",
      "\n",
      "              avg / total       0.32      0.38      0.27        53\n",
      "\n"
     ]
    },
    {
     "name": "stderr",
     "output_type": "stream",
     "text": [
      "/anaconda/lib/python3.6/site-packages/sklearn/metrics/classification.py:1113: UndefinedMetricWarning: Precision and F-score are ill-defined and being set to 0.0 in labels with no predicted samples.\n",
      "  'precision', 'predicted', average, warn_for)\n"
     ]
    }
   ],
   "source": [
    "print(metrics.classification_report(y_test, predicted))"
   ]
  },
  {
   "cell_type": "markdown",
   "metadata": {},
   "source": [
    "## Decision Tree\n",
    "* dt1_clf - classifier based on Title text\n",
    "* dt2_clf - classifier based on Summary text"
   ]
  },
  {
   "cell_type": "code",
   "execution_count": 15,
   "metadata": {
    "collapsed": true
   },
   "outputs": [],
   "source": [
    "dt1_clf = Pipeline([('vect', CountVectorizer(analyzer=text_process)),  \n",
    "                     ('tfidf', TfidfTransformer()),\n",
    "                      ('clf', tree.DecisionTreeClassifier())\n",
    "                    ])\n",
    "dt2_clf = Pipeline([('vect', CountVectorizer(analyzer=text_process)),  \n",
    "                     ('tfidf', TfidfTransformer()),\n",
    "                      ('clf', tree.DecisionTreeClassifier())\n",
    "                    ])"
   ]
  },
  {
   "cell_type": "code",
   "execution_count": 16,
   "metadata": {},
   "outputs": [
    {
     "data": {
      "text/plain": [
       "Pipeline(steps=[('vect', CountVectorizer(analyzer=<function text_process at 0x11df2a510>, binary=False,\n",
       "        decode_error='strict', dtype=<class 'numpy.int64'>,\n",
       "        encoding='utf-8', input='content', lowercase=True, max_df=1.0,\n",
       "        max_features=None, min_df=1, ngram_range=(1, 1), preprocessor=None...it=2, min_weight_fraction_leaf=0.0,\n",
       "            presort=False, random_state=None, splitter='best'))])"
      ]
     },
     "execution_count": 16,
     "metadata": {},
     "output_type": "execute_result"
    }
   ],
   "source": [
    "dt1_clf.fit(X_Title_train,y_train ) "
   ]
  },
  {
   "cell_type": "code",
   "execution_count": 17,
   "metadata": {},
   "outputs": [
    {
     "name": "stdout",
     "output_type": "stream",
     "text": [
      "[[ 2  0  0  0  0  1  0  0  7  0]\n",
      " [ 0  2  0  0  0  0  0  1  0  0]\n",
      " [ 0  0  1  0  0  0  0  0  0  0]\n",
      " [ 1  0  0  0  0  0  0  0  0  0]\n",
      " [ 0  0  0  0  0  0  0  0  0  0]\n",
      " [ 1  0  0  0  0 16  0  0  0  0]\n",
      " [ 0  0  0  0  1  0  0  0  0  0]\n",
      " [ 0  0  0  0  1  0  0  0  5  2]\n",
      " [ 1  0  0  0  0  0  0  0 10  1]\n",
      " [ 0  0  0  0  0  0  0  0  0  0]]\n",
      "0.584905660377\n"
     ]
    }
   ],
   "source": [
    "predicted = dt1_clf.predict(X_Title_test)\n",
    " \n",
    "print(metrics.confusion_matrix(y_test, predicted))\n",
    "print(np.mean(predicted == y_test) )"
   ]
  },
  {
   "cell_type": "code",
   "execution_count": 18,
   "metadata": {},
   "outputs": [
    {
     "name": "stdout",
     "output_type": "stream",
     "text": [
      "                                 precision    recall  f1-score   support\n",
      "\n",
      "      Caught in/between Objects       0.40      0.20      0.27        10\n",
      "             Collapse of object       1.00      0.67      0.80         3\n",
      "                       Drowning       1.00      1.00      1.00         1\n",
      "                  Electrocution       0.00      0.00      0.00         1\n",
      "Exposure to Chemical Substances       0.00      0.00      0.00         0\n",
      "                          Falls       0.94      0.94      0.94        17\n",
      "            Fires and Explosion       0.00      0.00      0.00         1\n",
      "                          Other       0.00      0.00      0.00         8\n",
      "       Struck By Moving Objects       0.45      0.83      0.59        12\n",
      "                    Suffocation       0.00      0.00      0.00         0\n",
      "\n",
      "                    avg / total       0.56      0.58      0.55        53\n",
      "\n"
     ]
    },
    {
     "name": "stderr",
     "output_type": "stream",
     "text": [
      "/anaconda/lib/python3.6/site-packages/sklearn/metrics/classification.py:1113: UndefinedMetricWarning: Precision and F-score are ill-defined and being set to 0.0 in labels with no predicted samples.\n",
      "  'precision', 'predicted', average, warn_for)\n",
      "/anaconda/lib/python3.6/site-packages/sklearn/metrics/classification.py:1115: UndefinedMetricWarning: Recall and F-score are ill-defined and being set to 0.0 in labels with no true samples.\n",
      "  'recall', 'true', average, warn_for)\n"
     ]
    }
   ],
   "source": [
    "print(metrics.classification_report(y_test, predicted))"
   ]
  },
  {
   "cell_type": "code",
   "execution_count": 19,
   "metadata": {},
   "outputs": [
    {
     "data": {
      "text/plain": [
       "Pipeline(steps=[('vect', CountVectorizer(analyzer=<function text_process at 0x11df2a510>, binary=False,\n",
       "        decode_error='strict', dtype=<class 'numpy.int64'>,\n",
       "        encoding='utf-8', input='content', lowercase=True, max_df=1.0,\n",
       "        max_features=None, min_df=1, ngram_range=(1, 1), preprocessor=None...it=2, min_weight_fraction_leaf=0.0,\n",
       "            presort=False, random_state=None, splitter='best'))])"
      ]
     },
     "execution_count": 19,
     "metadata": {},
     "output_type": "execute_result"
    }
   ],
   "source": [
    "dt2_clf.fit(X_Summary_train,y_train ) "
   ]
  },
  {
   "cell_type": "code",
   "execution_count": 20,
   "metadata": {},
   "outputs": [
    {
     "name": "stdout",
     "output_type": "stream",
     "text": [
      "[[10  0  0  0  0  0  0  0  0]\n",
      " [ 1  2  0  0  0  0  0  0  0]\n",
      " [ 0  0  1  0  0  0  0  0  0]\n",
      " [ 1  0  0  0  0  0  0  0  0]\n",
      " [ 0  0  0  0  0  0  0  0  0]\n",
      " [ 1  0  1  1  0 11  0  2  1]\n",
      " [ 0  0  0  1  0  0  0  0  0]\n",
      " [ 4  0  0  0  0  0  0  2  2]\n",
      " [ 5  0  0  1  1  2  0  0  3]]\n",
      "0.547169811321\n"
     ]
    }
   ],
   "source": [
    "predicted = dt2_clf.predict(X_Summary_test)\n",
    " \n",
    "print(metrics.confusion_matrix(y_test, predicted))\n",
    "print(np.mean(predicted == y_test) )"
   ]
  },
  {
   "cell_type": "code",
   "execution_count": 21,
   "metadata": {},
   "outputs": [
    {
     "name": "stdout",
     "output_type": "stream",
     "text": [
      "                                 precision    recall  f1-score   support\n",
      "\n",
      "      Caught in/between Objects       0.45      1.00      0.62        10\n",
      "             Collapse of object       1.00      0.67      0.80         3\n",
      "                       Drowning       0.50      1.00      0.67         1\n",
      "                  Electrocution       0.00      0.00      0.00         1\n",
      "Exposure to Chemical Substances       0.00      0.00      0.00         0\n",
      "                          Falls       0.85      0.65      0.73        17\n",
      "            Fires and Explosion       0.00      0.00      0.00         1\n",
      "                          Other       0.50      0.25      0.33         8\n",
      "       Struck By Moving Objects       0.50      0.25      0.33        12\n",
      "\n",
      "                    avg / total       0.61      0.55      0.54        53\n",
      "\n"
     ]
    },
    {
     "name": "stderr",
     "output_type": "stream",
     "text": [
      "/anaconda/lib/python3.6/site-packages/sklearn/metrics/classification.py:1113: UndefinedMetricWarning: Precision and F-score are ill-defined and being set to 0.0 in labels with no predicted samples.\n",
      "  'precision', 'predicted', average, warn_for)\n",
      "/anaconda/lib/python3.6/site-packages/sklearn/metrics/classification.py:1115: UndefinedMetricWarning: Recall and F-score are ill-defined and being set to 0.0 in labels with no true samples.\n",
      "  'recall', 'true', average, warn_for)\n"
     ]
    }
   ],
   "source": [
    "print(metrics.classification_report(y_test, predicted))"
   ]
  },
  {
   "cell_type": "markdown",
   "metadata": {},
   "source": [
    "## SVM\n",
    "\n",
    "* sv1_clf - classifier based on Title text\n",
    "* sv2_clf - classifier based on Summary text"
   ]
  },
  {
   "cell_type": "code",
   "execution_count": 22,
   "metadata": {
    "collapsed": true
   },
   "outputs": [],
   "source": [
    "sv1_clf = Pipeline([('vect', CountVectorizer(analyzer=text_process)),\n",
    "                     ('tfidf', TfidfTransformer(use_idf=True)),\n",
    "                      ('clf', SGDClassifier(\n",
    "                                            alpha=1e-3 \n",
    "                                             ))\n",
    "                    ])\n",
    "\n",
    "sv2_clf = Pipeline([('vect', CountVectorizer(analyzer=text_process)),\n",
    "                     ('tfidf', TfidfTransformer(use_idf=True)),\n",
    "                      ('clf', SGDClassifier(\n",
    "                                            alpha=1e-3 \n",
    "                                             ))\n",
    "                    ])"
   ]
  },
  {
   "cell_type": "code",
   "execution_count": 23,
   "metadata": {},
   "outputs": [
    {
     "data": {
      "text/plain": [
       "Pipeline(steps=[('vect', CountVectorizer(analyzer=<function text_process at 0x11df2a510>, binary=False,\n",
       "        decode_error='strict', dtype=<class 'numpy.int64'>,\n",
       "        encoding='utf-8', input='content', lowercase=True, max_df=1.0,\n",
       "        max_features=None, min_df=1, ngram_range=(1, 1), preprocessor=None...   penalty='l2', power_t=0.5, random_state=None, shuffle=True,\n",
       "       verbose=0, warm_start=False))])"
      ]
     },
     "execution_count": 23,
     "metadata": {},
     "output_type": "execute_result"
    }
   ],
   "source": [
    "sv1_clf.fit(X_Title_train,y_train ) "
   ]
  },
  {
   "cell_type": "code",
   "execution_count": 24,
   "metadata": {},
   "outputs": [
    {
     "name": "stdout",
     "output_type": "stream",
     "text": [
      "[[ 9  0  0  0  1  0  0  0]\n",
      " [ 0  2  0  0  0  0  1  0]\n",
      " [ 0  0  1  0  0  0  0  0]\n",
      " [ 1  0  0  0  0  0  0  0]\n",
      " [ 1  0  1  0 15  0  0  0]\n",
      " [ 0  0  0  1  0  0  0  0]\n",
      " [ 1  0  0  3  1  0  1  2]\n",
      " [ 1  0  0  0  0  0  0 11]]\n",
      "0.735849056604\n"
     ]
    }
   ],
   "source": [
    "predicted = sv1_clf.predict(X_Title_test)\n",
    " \n",
    "print(metrics.confusion_matrix(y_test, predicted))\n",
    "print(np.mean(predicted == y_test) )"
   ]
  },
  {
   "cell_type": "code",
   "execution_count": 25,
   "metadata": {},
   "outputs": [
    {
     "name": "stdout",
     "output_type": "stream",
     "text": [
      "                           precision    recall  f1-score   support\n",
      "\n",
      "Caught in/between Objects       0.69      0.90      0.78        10\n",
      "       Collapse of object       1.00      0.67      0.80         3\n",
      "                 Drowning       0.50      1.00      0.67         1\n",
      "            Electrocution       0.00      0.00      0.00         1\n",
      "                    Falls       0.88      0.88      0.88        17\n",
      "      Fires and Explosion       0.00      0.00      0.00         1\n",
      "                    Other       0.50      0.12      0.20         8\n",
      " Struck By Moving Objects       0.85      0.92      0.88        12\n",
      "\n",
      "              avg / total       0.75      0.74      0.72        53\n",
      "\n"
     ]
    },
    {
     "name": "stderr",
     "output_type": "stream",
     "text": [
      "/anaconda/lib/python3.6/site-packages/sklearn/metrics/classification.py:1113: UndefinedMetricWarning: Precision and F-score are ill-defined and being set to 0.0 in labels with no predicted samples.\n",
      "  'precision', 'predicted', average, warn_for)\n"
     ]
    }
   ],
   "source": [
    "print(metrics.classification_report(y_test, predicted))"
   ]
  },
  {
   "cell_type": "code",
   "execution_count": 26,
   "metadata": {},
   "outputs": [
    {
     "data": {
      "text/plain": [
       "Pipeline(steps=[('vect', CountVectorizer(analyzer=<function text_process at 0x11df2a510>, binary=False,\n",
       "        decode_error='strict', dtype=<class 'numpy.int64'>,\n",
       "        encoding='utf-8', input='content', lowercase=True, max_df=1.0,\n",
       "        max_features=None, min_df=1, ngram_range=(1, 1), preprocessor=None...   penalty='l2', power_t=0.5, random_state=None, shuffle=True,\n",
       "       verbose=0, warm_start=False))])"
      ]
     },
     "execution_count": 26,
     "metadata": {},
     "output_type": "execute_result"
    }
   ],
   "source": [
    "sv2_clf.fit(X_Summary_train,y_train ) "
   ]
  },
  {
   "cell_type": "code",
   "execution_count": 27,
   "metadata": {},
   "outputs": [
    {
     "name": "stdout",
     "output_type": "stream",
     "text": [
      "[[ 8  2  0  0  0  0  0  0]\n",
      " [ 0  1  0  0  1  0  1  0]\n",
      " [ 0  0  1  0  0  0  0  0]\n",
      " [ 1  0  0  0  0  0  0  0]\n",
      " [ 1  0  1  0 14  1  0  0]\n",
      " [ 1  0  0  0  0  0  0  0]\n",
      " [ 3  0  0  3  2  0  0  0]\n",
      " [ 3  0  3  0  0  0  0  6]]\n",
      "0.566037735849\n"
     ]
    }
   ],
   "source": [
    "predicted = sv2_clf.predict(X_Title_test)\n",
    " \n",
    "print(metrics.confusion_matrix(y_test, predicted))\n",
    "print(np.mean(predicted == y_test) )"
   ]
  },
  {
   "cell_type": "code",
   "execution_count": 28,
   "metadata": {},
   "outputs": [
    {
     "name": "stdout",
     "output_type": "stream",
     "text": [
      "                           precision    recall  f1-score   support\n",
      "\n",
      "Caught in/between Objects       0.47      0.80      0.59        10\n",
      "       Collapse of object       0.33      0.33      0.33         3\n",
      "                 Drowning       0.20      1.00      0.33         1\n",
      "            Electrocution       0.00      0.00      0.00         1\n",
      "                    Falls       0.82      0.82      0.82        17\n",
      "      Fires and Explosion       0.00      0.00      0.00         1\n",
      "                    Other       0.00      0.00      0.00         8\n",
      " Struck By Moving Objects       1.00      0.50      0.67        12\n",
      "\n",
      "              avg / total       0.60      0.57      0.55        53\n",
      "\n"
     ]
    }
   ],
   "source": [
    "print(metrics.classification_report(y_test, predicted))"
   ]
  },
  {
   "cell_type": "markdown",
   "metadata": {
    "collapsed": true
   },
   "source": [
    "## Label osha data\n",
    "\n",
    "Use SVM model with Summary data"
   ]
  },
  {
   "cell_type": "code",
   "execution_count": 45,
   "metadata": {},
   "outputs": [],
   "source": [
    "osha['Cause'] = sv2_clf.predict(osha.Summary).tolist()"
   ]
  },
  {
   "cell_type": "code",
   "execution_count": 53,
   "metadata": {},
   "outputs": [],
   "source": [
    "osha = osha.applymap(str)"
   ]
  },
  {
   "cell_type": "code",
   "execution_count": 54,
   "metadata": {},
   "outputs": [],
   "source": [
    "osha['Cause'] = sv1_clf.predict(osha['Title']).tolist()"
   ]
  },
  {
   "cell_type": "code",
   "execution_count": 55,
   "metadata": {},
   "outputs": [
    {
     "data": {
      "text/html": [
       "<div>\n",
       "<style>\n",
       "    .dataframe thead tr:only-child th {\n",
       "        text-align: right;\n",
       "    }\n",
       "\n",
       "    .dataframe thead th {\n",
       "        text-align: left;\n",
       "    }\n",
       "\n",
       "    .dataframe tbody tr th {\n",
       "        vertical-align: top;\n",
       "    }\n",
       "</style>\n",
       "<table border=\"1\" class=\"dataframe\">\n",
       "  <thead>\n",
       "    <tr style=\"text-align: right;\">\n",
       "      <th></th>\n",
       "      <th>Cause</th>\n",
       "      <th>Summary</th>\n",
       "    </tr>\n",
       "    <tr>\n",
       "      <th>0</th>\n",
       "      <th></th>\n",
       "      <th></th>\n",
       "    </tr>\n",
       "  </thead>\n",
       "  <tbody>\n",
       "    <tr>\n",
       "      <th>201079928</th>\n",
       "      <td>Exposure to extreme temperatures</td>\n",
       "      <td>burn  industrial truck  waste proc fac  pa...</td>\n",
       "    </tr>\n",
       "    <tr>\n",
       "      <th>202561825</th>\n",
       "      <td>Falls</td>\n",
       "      <td>truck  flatbed truck  trailer  fall  abdomen</td>\n",
       "    </tr>\n",
       "    <tr>\n",
       "      <th>200361855</th>\n",
       "      <td>Struck By Moving Objects</td>\n",
       "      <td>construction  undrgrd power line  highway ...</td>\n",
       "    </tr>\n",
       "    <tr>\n",
       "      <th>200361863</th>\n",
       "      <td>Struck By Moving Objects</td>\n",
       "      <td>waste proc fac  industrial truck  struck b...</td>\n",
       "    </tr>\n",
       "    <tr>\n",
       "      <th>201079324</th>\n",
       "      <td>Exposure to extreme temperatures</td>\n",
       "      <td>truck driver  pump  tank  hot water  struc...</td>\n",
       "    </tr>\n",
       "  </tbody>\n",
       "</table>\n",
       "</div>"
      ],
      "text/plain": [
       "                                      Cause  \\\n",
       "0                                             \n",
       "201079928  Exposure to extreme temperatures   \n",
       "202561825                             Falls   \n",
       "200361855          Struck By Moving Objects   \n",
       "200361863          Struck By Moving Objects   \n",
       "201079324  Exposure to extreme temperatures   \n",
       "\n",
       "                                                     Summary  \n",
       "0                                                             \n",
       "201079928      burn  industrial truck  waste proc fac  pa...  \n",
       "202561825      truck  flatbed truck  trailer  fall  abdomen   \n",
       "200361855      construction  undrgrd power line  highway ...  \n",
       "200361863      waste proc fac  industrial truck  struck b...  \n",
       "201079324      truck driver  pump  tank  hot water  struc...  "
      ]
     },
     "execution_count": 55,
     "metadata": {},
     "output_type": "execute_result"
    }
   ],
   "source": [
    "osha[['Cause','Summary']].head()"
   ]
  },
  {
   "cell_type": "markdown",
   "metadata": {},
   "source": [
    "## Determine whether incident was fatal"
   ]
  },
  {
   "cell_type": "code",
   "execution_count": 56,
   "metadata": {
    "collapsed": true
   },
   "outputs": [],
   "source": [
    "list_ = ['killed','fatally', 'fatal', 'dies', 'asphyxiated', 'die', \n",
    "         'doa', 'deceased', 'dead', 'death', 'kills', 'kill', 'drowned']\n",
    "\n",
    "osha['Fatal'] = False\n",
    "for index, row in osha.iterrows():\n",
    "    if (any(word in str(row.Title).lower() for word in list_)\n",
    "        or any(word in str(row.Description).lower() for word in list_)):\n",
    "        osha.loc[index, 'Fatal'] = True"
   ]
  },
  {
   "cell_type": "code",
   "execution_count": 57,
   "metadata": {},
   "outputs": [
    {
     "data": {
      "text/html": [
       "<div>\n",
       "<style>\n",
       "    .dataframe thead tr:only-child th {\n",
       "        text-align: right;\n",
       "    }\n",
       "\n",
       "    .dataframe thead th {\n",
       "        text-align: left;\n",
       "    }\n",
       "\n",
       "    .dataframe tbody tr th {\n",
       "        vertical-align: top;\n",
       "    }\n",
       "</style>\n",
       "<table border=\"1\" class=\"dataframe\">\n",
       "  <thead>\n",
       "    <tr style=\"text-align: right;\">\n",
       "      <th></th>\n",
       "      <th>Title</th>\n",
       "      <th>Description</th>\n",
       "      <th>Summary</th>\n",
       "      <th>Classification</th>\n",
       "      <th>Cause</th>\n",
       "      <th>Fatal</th>\n",
       "    </tr>\n",
       "    <tr>\n",
       "      <th>0</th>\n",
       "      <th></th>\n",
       "      <th></th>\n",
       "      <th></th>\n",
       "      <th></th>\n",
       "      <th></th>\n",
       "      <th></th>\n",
       "    </tr>\n",
       "  </thead>\n",
       "  <tbody>\n",
       "    <tr>\n",
       "      <th>201079928</th>\n",
       "      <td>Employee Is Burned By Forklift Radiator Fluid</td>\n",
       "      <td>At approximately 11:30 a.m. on November 13  2...</td>\n",
       "      <td>burn  industrial truck  waste proc fac  pa...</td>\n",
       "      <td></td>\n",
       "      <td>Exposure to extreme temperatures</td>\n",
       "      <td>False</td>\n",
       "    </tr>\n",
       "    <tr>\n",
       "      <th>202561825</th>\n",
       "      <td>Employee Falls From Flatbed Trailer And Later...</td>\n",
       "      <td>On August 30  2013  Employee #1 was working f...</td>\n",
       "      <td>truck  flatbed truck  trailer  fall  abdomen</td>\n",
       "      <td></td>\n",
       "      <td>Falls</td>\n",
       "      <td>True</td>\n",
       "    </tr>\n",
       "    <tr>\n",
       "      <th>200361855</th>\n",
       "      <td>Two Workers Are Struck By Motor Vehicle And O...</td>\n",
       "      <td>On August 27  2013  Employees #1 and #2  of T...</td>\n",
       "      <td>construction  undrgrd power line  highway ...</td>\n",
       "      <td>1 317290559   Fatality Other Occupation not re...</td>\n",
       "      <td>Struck By Moving Objects</td>\n",
       "      <td>True</td>\n",
       "    </tr>\n",
       "    <tr>\n",
       "      <th>200361863</th>\n",
       "      <td>Employee Is Struck By Bales Of Wire And Killed</td>\n",
       "      <td>On August 26  2013  Employee #1  with Lee Iro...</td>\n",
       "      <td>waste proc fac  industrial truck  struck b...</td>\n",
       "      <td></td>\n",
       "      <td>Struck By Moving Objects</td>\n",
       "      <td>True</td>\n",
       "    </tr>\n",
       "    <tr>\n",
       "      <th>201079324</th>\n",
       "      <td>Employee Is Splashed With Hot Water And Is Bu...</td>\n",
       "      <td>On July 14  2013  Employee #1  vacuum pump tr...</td>\n",
       "      <td>truck driver  pump  tank  hot water  struc...</td>\n",
       "      <td></td>\n",
       "      <td>Exposure to extreme temperatures</td>\n",
       "      <td>False</td>\n",
       "    </tr>\n",
       "  </tbody>\n",
       "</table>\n",
       "</div>"
      ],
      "text/plain": [
       "                                                       Title  \\\n",
       "0                                                              \n",
       "201079928     Employee Is Burned By Forklift Radiator Fluid    \n",
       "202561825   Employee Falls From Flatbed Trailer And Later...   \n",
       "200361855   Two Workers Are Struck By Motor Vehicle And O...   \n",
       "200361863    Employee Is Struck By Bales Of Wire And Killed    \n",
       "201079324   Employee Is Splashed With Hot Water And Is Bu...   \n",
       "\n",
       "                                                 Description  \\\n",
       "0                                                              \n",
       "201079928   At approximately 11:30 a.m. on November 13  2...   \n",
       "202561825   On August 30  2013  Employee #1 was working f...   \n",
       "200361855   On August 27  2013  Employees #1 and #2  of T...   \n",
       "200361863   On August 26  2013  Employee #1  with Lee Iro...   \n",
       "201079324   On July 14  2013  Employee #1  vacuum pump tr...   \n",
       "\n",
       "                                                     Summary  \\\n",
       "0                                                              \n",
       "201079928      burn  industrial truck  waste proc fac  pa...   \n",
       "202561825      truck  flatbed truck  trailer  fall  abdomen    \n",
       "200361855      construction  undrgrd power line  highway ...   \n",
       "200361863      waste proc fac  industrial truck  struck b...   \n",
       "201079324      truck driver  pump  tank  hot water  struc...   \n",
       "\n",
       "                                              Classification  \\\n",
       "0                                                              \n",
       "201079928                                                      \n",
       "202561825                                                      \n",
       "200361855  1 317290559   Fatality Other Occupation not re...   \n",
       "200361863                                                      \n",
       "201079324                                                      \n",
       "\n",
       "                                      Cause  Fatal  \n",
       "0                                                   \n",
       "201079928  Exposure to extreme temperatures  False  \n",
       "202561825                             Falls   True  \n",
       "200361855          Struck By Moving Objects   True  \n",
       "200361863          Struck By Moving Objects   True  \n",
       "201079324  Exposure to extreme temperatures  False  "
      ]
     },
     "execution_count": 57,
     "metadata": {},
     "output_type": "execute_result"
    }
   ],
   "source": [
    "osha.head()"
   ]
  },
  {
   "cell_type": "markdown",
   "metadata": {},
   "source": [
    "## Output results to CSV file"
   ]
  },
  {
   "cell_type": "code",
   "execution_count": 58,
   "metadata": {
    "collapsed": true
   },
   "outputs": [],
   "source": [
    "osha.to_csv(\"osha1.csv\", index_label='Case')"
   ]
  },
  {
   "cell_type": "markdown",
   "metadata": {
    "collapsed": true
   },
   "source": [
    "## Determine which Accident types are more commonly resulting in fatality or catastrophe"
   ]
  },
  {
   "cell_type": "code",
   "execution_count": 59,
   "metadata": {},
   "outputs": [
    {
     "data": {
      "text/plain": [
       "(6816, 6)"
      ]
     },
     "execution_count": 59,
     "metadata": {},
     "output_type": "execute_result"
    }
   ],
   "source": [
    "dfFatalOsha = osha[osha['Fatal']==True]\n",
    "dfFatalOsha.shape"
   ]
  },
  {
   "cell_type": "code",
   "execution_count": 60,
   "metadata": {},
   "outputs": [
    {
     "data": {
      "text/plain": [
       "Cause\n",
       "Caught in/between Objects           1166\n",
       "Collapse of object                   172\n",
       "Drowning                             149\n",
       "Electrocution                        426\n",
       "Exposure to Chemical Substances       94\n",
       "Exposure to extreme temperatures     202\n",
       "Falls                               1365\n",
       "Fires and Explosion                  423\n",
       "Other                                175\n",
       "Struck By Moving Objects            2508\n",
       "Suffocation                          136\n",
       "Name: Cause, dtype: int64"
      ]
     },
     "execution_count": 60,
     "metadata": {},
     "output_type": "execute_result"
    }
   ],
   "source": [
    "summary = dfFatalOsha.groupby('Cause').Cause.count()\n",
    "summary"
   ]
  },
  {
   "cell_type": "code",
   "execution_count": 62,
   "metadata": {},
   "outputs": [
    {
     "data": {
      "text/html": [
       "<div>\n",
       "<style>\n",
       "    .dataframe thead tr:only-child th {\n",
       "        text-align: right;\n",
       "    }\n",
       "\n",
       "    .dataframe thead th {\n",
       "        text-align: left;\n",
       "    }\n",
       "\n",
       "    .dataframe tbody tr th {\n",
       "        vertical-align: top;\n",
       "    }\n",
       "</style>\n",
       "<table border=\"1\" class=\"dataframe\">\n",
       "  <thead>\n",
       "    <tr style=\"text-align: right;\">\n",
       "      <th></th>\n",
       "      <th>Count</th>\n",
       "      <th>Percentage</th>\n",
       "    </tr>\n",
       "    <tr>\n",
       "      <th>Cause</th>\n",
       "      <th></th>\n",
       "      <th></th>\n",
       "    </tr>\n",
       "  </thead>\n",
       "  <tbody>\n",
       "    <tr>\n",
       "      <th>Caught in/between Objects</th>\n",
       "      <td>1166</td>\n",
       "      <td>17.106808</td>\n",
       "    </tr>\n",
       "    <tr>\n",
       "      <th>Collapse of object</th>\n",
       "      <td>172</td>\n",
       "      <td>2.523474</td>\n",
       "    </tr>\n",
       "    <tr>\n",
       "      <th>Drowning</th>\n",
       "      <td>149</td>\n",
       "      <td>2.186033</td>\n",
       "    </tr>\n",
       "    <tr>\n",
       "      <th>Electrocution</th>\n",
       "      <td>426</td>\n",
       "      <td>6.250000</td>\n",
       "    </tr>\n",
       "    <tr>\n",
       "      <th>Exposure to Chemical Substances</th>\n",
       "      <td>94</td>\n",
       "      <td>1.379108</td>\n",
       "    </tr>\n",
       "    <tr>\n",
       "      <th>Exposure to extreme temperatures</th>\n",
       "      <td>202</td>\n",
       "      <td>2.963615</td>\n",
       "    </tr>\n",
       "    <tr>\n",
       "      <th>Falls</th>\n",
       "      <td>1365</td>\n",
       "      <td>20.026408</td>\n",
       "    </tr>\n",
       "    <tr>\n",
       "      <th>Fires and Explosion</th>\n",
       "      <td>423</td>\n",
       "      <td>6.205986</td>\n",
       "    </tr>\n",
       "    <tr>\n",
       "      <th>Other</th>\n",
       "      <td>175</td>\n",
       "      <td>2.567488</td>\n",
       "    </tr>\n",
       "    <tr>\n",
       "      <th>Struck By Moving Objects</th>\n",
       "      <td>2508</td>\n",
       "      <td>36.795775</td>\n",
       "    </tr>\n",
       "    <tr>\n",
       "      <th>Suffocation</th>\n",
       "      <td>136</td>\n",
       "      <td>1.995305</td>\n",
       "    </tr>\n",
       "  </tbody>\n",
       "</table>\n",
       "</div>"
      ],
      "text/plain": [
       "                                  Count  Percentage\n",
       "Cause                                              \n",
       "Caught in/between Objects          1166   17.106808\n",
       "Collapse of object                  172    2.523474\n",
       "Drowning                            149    2.186033\n",
       "Electrocution                       426    6.250000\n",
       "Exposure to Chemical Substances      94    1.379108\n",
       "Exposure to extreme temperatures    202    2.963615\n",
       "Falls                              1365   20.026408\n",
       "Fires and Explosion                 423    6.205986\n",
       "Other                               175    2.567488\n",
       "Struck By Moving Objects           2508   36.795775\n",
       "Suffocation                         136    1.995305"
      ]
     },
     "execution_count": 62,
     "metadata": {},
     "output_type": "execute_result"
    }
   ],
   "source": [
    "dfSummary = pd.DataFrame(summary)\n",
    "dfSummary = dfSummary.rename(columns={'Cause': 'Count'})\n",
    "total = dfSummary['Count'].sum()\n",
    "dfSummary['Percentage'] = (dfSummary['Count']/total)*100\n",
    "dfSummary"
   ]
  },
  {
   "cell_type": "code",
   "execution_count": null,
   "metadata": {
    "collapsed": true
   },
   "outputs": [],
   "source": []
  }
 ],
 "metadata": {
  "kernelspec": {
   "display_name": "Python 3",
   "language": "python",
   "name": "python3"
  },
  "language_info": {
   "codemirror_mode": {
    "name": "ipython",
    "version": 3
   },
   "file_extension": ".py",
   "mimetype": "text/x-python",
   "name": "python",
   "nbconvert_exporter": "python",
   "pygments_lexer": "ipython3",
   "version": "3.6.1"
  }
 },
 "nbformat": 4,
 "nbformat_minor": 2
}
